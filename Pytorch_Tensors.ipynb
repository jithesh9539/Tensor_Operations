{
  "nbformat": 4,
  "nbformat_minor": 0,
  "metadata": {
    "colab": {
      "name": "Pytorch_Tensors.ipynb",
      "provenance": [],
      "authorship_tag": "ABX9TyNmr3Kalt2S1avefPbeBhwj",
      "include_colab_link": true
    },
    "kernelspec": {
      "name": "python3",
      "display_name": "Python 3"
    },
    "language_info": {
      "name": "python"
    },
    "accelerator": "GPU"
  },
  "cells": [
    {
      "cell_type": "markdown",
      "metadata": {
        "id": "view-in-github",
        "colab_type": "text"
      },
      "source": [
        "<a href=\"https://colab.research.google.com/github/jithesh9539/Tensor_Operations/blob/main/Pytorch_Tensors.ipynb\" target=\"_parent\"><img src=\"https://colab.research.google.com/assets/colab-badge.svg\" alt=\"Open In Colab\"/></a>"
      ]
    },
    {
      "cell_type": "code",
      "execution_count": 1,
      "metadata": {
        "id": "MFaRUkKn-1Rd"
      },
      "outputs": [],
      "source": [
        "## Standard libraries\n",
        "import os\n",
        "import math\n",
        "import numpy as np \n",
        "import time\n",
        "\n",
        "## Imports for plotting\n",
        "import matplotlib.pyplot as plt\n",
        "%matplotlib inline \n",
        "from IPython.display import set_matplotlib_formats\n",
        "set_matplotlib_formats('svg', 'pdf') # For export\n",
        "from matplotlib.colors import to_rgba\n",
        "import seaborn as sns\n",
        "sns.set()\n",
        "\n",
        "## Progress bar\n",
        "from tqdm.notebook import tqdm"
      ]
    },
    {
      "cell_type": "code",
      "source": [
        "import torch\n",
        "print(\"Using torch\", torch.__version__)"
      ],
      "metadata": {
        "colab": {
          "base_uri": "https://localhost:8080/"
        },
        "id": "I28K1HqX_JSe",
        "outputId": "3dd16200-a6ff-42d3-b310-2df74c1d83b0"
      },
      "execution_count": 2,
      "outputs": [
        {
          "output_type": "stream",
          "name": "stdout",
          "text": [
            "Using torch 1.10.0+cu111\n"
          ]
        }
      ]
    },
    {
      "cell_type": "code",
      "source": [
        "torch.manual_seed(42) # Setting the seed"
      ],
      "metadata": {
        "colab": {
          "base_uri": "https://localhost:8080/"
        },
        "id": "0oZNzziY_Vp-",
        "outputId": "3ebac4f9-8494-487e-b6c4-c53f4bdf1081"
      },
      "execution_count": 3,
      "outputs": [
        {
          "output_type": "execute_result",
          "data": {
            "text/plain": [
              "<torch._C.Generator at 0x7f80c65da870>"
            ]
          },
          "metadata": {},
          "execution_count": 3
        }
      ]
    },
    {
      "cell_type": "code",
      "source": [
        "x = torch.Tensor(2, 3, 4)\n",
        "print(x)"
      ],
      "metadata": {
        "colab": {
          "base_uri": "https://localhost:8080/"
        },
        "id": "rlZ9Fgk2_fCi",
        "outputId": "6eb85bf8-60e3-42f9-cdb3-19f559640dfb"
      },
      "execution_count": 4,
      "outputs": [
        {
          "output_type": "stream",
          "name": "stdout",
          "text": [
            "tensor([[[4.2457e-34, 3.0624e-41, 7.0065e-44, 7.0065e-44],\n",
            "         [6.3058e-44, 6.7262e-44, 7.0065e-44, 6.3058e-44],\n",
            "         [7.0065e-44, 6.7262e-44, 1.1771e-43, 7.0065e-44]],\n",
            "\n",
            "        [[6.8664e-44, 8.1275e-44, 7.0065e-44, 7.5670e-44],\n",
            "         [8.1275e-44, 6.7262e-44, 7.5670e-44, 6.4460e-44],\n",
            "         [7.4269e-44, 7.5670e-44, 6.7262e-44, 7.1466e-44]]])\n"
          ]
        }
      ]
    },
    {
      "cell_type": "code",
      "source": [
        "# Create a tensor from a (nested) list\n",
        "x = torch.Tensor([[1, 2], [3, 4]])\n",
        "print(x)"
      ],
      "metadata": {
        "colab": {
          "base_uri": "https://localhost:8080/"
        },
        "id": "78PB9WxZ_uYo",
        "outputId": "08c92900-1d5f-4edf-cbd5-a70121867a79"
      },
      "execution_count": 5,
      "outputs": [
        {
          "output_type": "stream",
          "name": "stdout",
          "text": [
            "tensor([[1., 2.],\n",
            "        [3., 4.]])\n"
          ]
        }
      ]
    },
    {
      "cell_type": "code",
      "source": [
        "# Create a tensor with random values between 0 and 1 with the shape [2, 3, 4]\n",
        "x = torch.rand(2, 3, 4)\n",
        "print(x)"
      ],
      "metadata": {
        "colab": {
          "base_uri": "https://localhost:8080/"
        },
        "id": "Ro2C226w_z1G",
        "outputId": "ba2bee75-d5e8-4a06-f3b3-f74950a0726a"
      },
      "execution_count": 6,
      "outputs": [
        {
          "output_type": "stream",
          "name": "stdout",
          "text": [
            "tensor([[[0.8823, 0.9150, 0.3829, 0.9593],\n",
            "         [0.3904, 0.6009, 0.2566, 0.7936],\n",
            "         [0.9408, 0.1332, 0.9346, 0.5936]],\n",
            "\n",
            "        [[0.8694, 0.5677, 0.7411, 0.4294],\n",
            "         [0.8854, 0.5739, 0.2666, 0.6274],\n",
            "         [0.2696, 0.4414, 0.2969, 0.8317]]])\n"
          ]
        }
      ]
    },
    {
      "cell_type": "code",
      "source": [
        "shape = x.shape\n",
        "print(\"Shape:\", x.shape)\n",
        "\n",
        "size = x.size()\n",
        "print(\"Size:\", size)\n",
        "\n",
        "dim1, dim2, dim3 = x.size()\n",
        "print(\"Size:\", dim1, dim2, dim3)"
      ],
      "metadata": {
        "colab": {
          "base_uri": "https://localhost:8080/"
        },
        "id": "7xXHPe22_3Kr",
        "outputId": "60de1c79-d243-4150-872a-8e8d9162f228"
      },
      "execution_count": 7,
      "outputs": [
        {
          "output_type": "stream",
          "name": "stdout",
          "text": [
            "Shape: torch.Size([2, 3, 4])\n",
            "Size: torch.Size([2, 3, 4])\n",
            "Size: 2 3 4\n"
          ]
        }
      ]
    },
    {
      "cell_type": "code",
      "source": [
        "np_arr = np.array([[1, 2], [3, 4]])\n",
        "tensor = torch.from_numpy(np_arr)\n",
        "\n",
        "print(\"Numpy array:\", np_arr)\n",
        "print(\"PyTorch tensor:\", tensor)"
      ],
      "metadata": {
        "colab": {
          "base_uri": "https://localhost:8080/"
        },
        "id": "mA5X7l3W_6JI",
        "outputId": "9c83e4c4-9602-491b-86df-df789ceb34ad"
      },
      "execution_count": 8,
      "outputs": [
        {
          "output_type": "stream",
          "name": "stdout",
          "text": [
            "Numpy array: [[1 2]\n",
            " [3 4]]\n",
            "PyTorch tensor: tensor([[1, 2],\n",
            "        [3, 4]])\n"
          ]
        }
      ]
    },
    {
      "cell_type": "markdown",
      "source": [
        "**To transform a PyTorch tensor back to a numpy array, we can use the function .numpy() on tensors:**"
      ],
      "metadata": {
        "id": "fr72uY41AAWs"
      }
    },
    {
      "cell_type": "code",
      "source": [
        "tensor = torch.arange(4)\n",
        "np_arr = tensor.numpy()\n",
        "\n",
        "print(\"PyTorch tensor:\", tensor)\n",
        "print(\"Numpy array:\", np_arr)"
      ],
      "metadata": {
        "colab": {
          "base_uri": "https://localhost:8080/"
        },
        "id": "DvL1MCVn_8y3",
        "outputId": "a88b0873-2b21-448e-ee63-b0e81dd8de00"
      },
      "execution_count": 9,
      "outputs": [
        {
          "output_type": "stream",
          "name": "stdout",
          "text": [
            "PyTorch tensor: tensor([0, 1, 2, 3])\n",
            "Numpy array: [0 1 2 3]\n"
          ]
        }
      ]
    },
    {
      "cell_type": "code",
      "source": [
        "x1 = torch.rand(2, 3)\n",
        "x2 = torch.rand(2, 3)\n",
        "y = x1 + x2\n",
        "\n",
        "print(\"X1\", x1)\n",
        "print(\"X2\", x2)\n",
        "print(\"Y\", y)"
      ],
      "metadata": {
        "colab": {
          "base_uri": "https://localhost:8080/"
        },
        "id": "KDHKLe5dAEN5",
        "outputId": "4541c18f-bdca-4aaa-8eec-176d0eee6e3b"
      },
      "execution_count": 10,
      "outputs": [
        {
          "output_type": "stream",
          "name": "stdout",
          "text": [
            "X1 tensor([[0.1053, 0.2695, 0.3588],\n",
            "        [0.1994, 0.5472, 0.0062]])\n",
            "X2 tensor([[0.9516, 0.0753, 0.8860],\n",
            "        [0.5832, 0.3376, 0.8090]])\n",
            "Y tensor([[1.0569, 0.3448, 1.2448],\n",
            "        [0.7826, 0.8848, 0.8151]])\n"
          ]
        }
      ]
    },
    {
      "cell_type": "code",
      "source": [
        "x1 = torch.rand(2, 3)\n",
        "x2 = torch.rand(2, 3)\n",
        "print(\"X1 (before)\", x1)\n",
        "print(\"X2 (before)\", x2)\n",
        "\n",
        "x2.add_(x1)\n",
        "print(\"X1 (after)\", x1)\n",
        "print(\"X2 (after)\", x2)"
      ],
      "metadata": {
        "colab": {
          "base_uri": "https://localhost:8080/"
        },
        "id": "a0qTN32lAIgr",
        "outputId": "97fe50fa-cae5-40eb-ca7d-d01a929b8454"
      },
      "execution_count": 11,
      "outputs": [
        {
          "output_type": "stream",
          "name": "stdout",
          "text": [
            "X1 (before) tensor([[0.5779, 0.9040, 0.5547],\n",
            "        [0.3423, 0.6343, 0.3644]])\n",
            "X2 (before) tensor([[0.7104, 0.9464, 0.7890],\n",
            "        [0.2814, 0.7886, 0.5895]])\n",
            "X1 (after) tensor([[0.5779, 0.9040, 0.5547],\n",
            "        [0.3423, 0.6343, 0.3644]])\n",
            "X2 (after) tensor([[1.2884, 1.8504, 1.3437],\n",
            "        [0.6237, 1.4230, 0.9539]])\n"
          ]
        }
      ]
    },
    {
      "cell_type": "code",
      "source": [
        "x = torch.arange(6)\n",
        "print(\"X\", x)"
      ],
      "metadata": {
        "colab": {
          "base_uri": "https://localhost:8080/"
        },
        "id": "y-9CUEA_ALKQ",
        "outputId": "fb7b98e4-a4fb-4e22-b5b0-70086c958c24"
      },
      "execution_count": 12,
      "outputs": [
        {
          "output_type": "stream",
          "name": "stdout",
          "text": [
            "X tensor([0, 1, 2, 3, 4, 5])\n"
          ]
        }
      ]
    },
    {
      "cell_type": "code",
      "source": [
        "x = x.view(2, 3)\n",
        "print(\"X\", x)"
      ],
      "metadata": {
        "colab": {
          "base_uri": "https://localhost:8080/"
        },
        "id": "vHE3zI0XAOar",
        "outputId": "731c51c1-df2d-4e12-e9ec-3075506f7974"
      },
      "execution_count": 13,
      "outputs": [
        {
          "output_type": "stream",
          "name": "stdout",
          "text": [
            "X tensor([[0, 1, 2],\n",
            "        [3, 4, 5]])\n"
          ]
        }
      ]
    },
    {
      "cell_type": "code",
      "source": [
        "x = x.permute(1, 0) # Swapping dimension 0 and 1\n",
        "print(\"X\", x)"
      ],
      "metadata": {
        "colab": {
          "base_uri": "https://localhost:8080/"
        },
        "id": "dBDzja68AP7T",
        "outputId": "f498bec8-093e-41d2-9a4a-6e84e33cd1ff"
      },
      "execution_count": 14,
      "outputs": [
        {
          "output_type": "stream",
          "name": "stdout",
          "text": [
            "X tensor([[0, 3],\n",
            "        [1, 4],\n",
            "        [2, 5]])\n"
          ]
        }
      ]
    },
    {
      "cell_type": "code",
      "source": [
        "x = torch.arange(6)\n",
        "x = x.view(2, 3)\n",
        "print(\"X\", x)"
      ],
      "metadata": {
        "colab": {
          "base_uri": "https://localhost:8080/"
        },
        "id": "og3aZ-wAARvU",
        "outputId": "1f461d41-7278-4dab-e68b-b8615fbee3a4"
      },
      "execution_count": 15,
      "outputs": [
        {
          "output_type": "stream",
          "name": "stdout",
          "text": [
            "X tensor([[0, 1, 2],\n",
            "        [3, 4, 5]])\n"
          ]
        }
      ]
    },
    {
      "cell_type": "code",
      "source": [
        "W = torch.arange(9).view(3, 3) # We can also stack multiple operations in a single line\n",
        "print(\"W\", W)"
      ],
      "metadata": {
        "colab": {
          "base_uri": "https://localhost:8080/"
        },
        "id": "0koLvpE5AURr",
        "outputId": "38bafc66-153d-47be-ea70-5f1b286dd0d5"
      },
      "execution_count": 16,
      "outputs": [
        {
          "output_type": "stream",
          "name": "stdout",
          "text": [
            "W tensor([[0, 1, 2],\n",
            "        [3, 4, 5],\n",
            "        [6, 7, 8]])\n"
          ]
        }
      ]
    },
    {
      "cell_type": "code",
      "source": [
        "h = torch.matmul(x, W) # Verify the result by calculating it by hand too!\n",
        "print(\"h\", h)"
      ],
      "metadata": {
        "colab": {
          "base_uri": "https://localhost:8080/"
        },
        "id": "GKgLdMvaAWQ9",
        "outputId": "48c69eca-7911-406b-820f-4c0f54c7dbf1"
      },
      "execution_count": 17,
      "outputs": [
        {
          "output_type": "stream",
          "name": "stdout",
          "text": [
            "h tensor([[15, 18, 21],\n",
            "        [42, 54, 66]])\n"
          ]
        }
      ]
    },
    {
      "cell_type": "markdown",
      "source": [
        "Indexing"
      ],
      "metadata": {
        "id": "fksbTk4HAY-G"
      }
    },
    {
      "cell_type": "code",
      "source": [
        "x = torch.arange(12).view(3, 4)\n",
        "print(\"X\", x)"
      ],
      "metadata": {
        "colab": {
          "base_uri": "https://localhost:8080/"
        },
        "id": "49pUJLZTAYGN",
        "outputId": "9d893fb7-c3d1-42ac-8eb6-d7446392436c"
      },
      "execution_count": 18,
      "outputs": [
        {
          "output_type": "stream",
          "name": "stdout",
          "text": [
            "X tensor([[ 0,  1,  2,  3],\n",
            "        [ 4,  5,  6,  7],\n",
            "        [ 8,  9, 10, 11]])\n"
          ]
        }
      ]
    },
    {
      "cell_type": "code",
      "source": [
        "print(x[:, 1])   # Second column"
      ],
      "metadata": {
        "colab": {
          "base_uri": "https://localhost:8080/"
        },
        "id": "oFhCwTSuAe7V",
        "outputId": "928ab712-ea61-4376-ca21-9fa98a04011a"
      },
      "execution_count": 19,
      "outputs": [
        {
          "output_type": "stream",
          "name": "stdout",
          "text": [
            "tensor([1, 5, 9])\n"
          ]
        }
      ]
    },
    {
      "cell_type": "code",
      "source": [
        "print(x[0])      # First row"
      ],
      "metadata": {
        "colab": {
          "base_uri": "https://localhost:8080/"
        },
        "id": "4V_FuxfSAgxJ",
        "outputId": "9dd657b3-0785-440a-a422-c815c4b54019"
      },
      "execution_count": 20,
      "outputs": [
        {
          "output_type": "stream",
          "name": "stdout",
          "text": [
            "tensor([0, 1, 2, 3])\n"
          ]
        }
      ]
    },
    {
      "cell_type": "code",
      "source": [
        "print(x[:2, -1]) # First two rows, last column"
      ],
      "metadata": {
        "colab": {
          "base_uri": "https://localhost:8080/"
        },
        "id": "a68zxIJ0AiXV",
        "outputId": "a599f421-5686-49c9-cd07-1e167f1b503e"
      },
      "execution_count": 21,
      "outputs": [
        {
          "output_type": "stream",
          "name": "stdout",
          "text": [
            "tensor([3, 7])\n"
          ]
        }
      ]
    },
    {
      "cell_type": "code",
      "source": [
        "print(x[1:3, :]) # Middle two rows"
      ],
      "metadata": {
        "colab": {
          "base_uri": "https://localhost:8080/"
        },
        "id": "VE3AfWxqAj-j",
        "outputId": "47681eca-6241-4539-beb6-d3da04588079"
      },
      "execution_count": 22,
      "outputs": [
        {
          "output_type": "stream",
          "name": "stdout",
          "text": [
            "tensor([[ 4,  5,  6,  7],\n",
            "        [ 8,  9, 10, 11]])\n"
          ]
        }
      ]
    },
    {
      "cell_type": "code",
      "source": [
        "x = torch.ones((3,))\n",
        "print(x.requires_grad)"
      ],
      "metadata": {
        "colab": {
          "base_uri": "https://localhost:8080/"
        },
        "id": "rwLgghw3AloZ",
        "outputId": "7f4ecc64-e106-4c56-bfe6-025988a852d5"
      },
      "execution_count": 23,
      "outputs": [
        {
          "output_type": "stream",
          "name": "stdout",
          "text": [
            "False\n"
          ]
        }
      ]
    },
    {
      "cell_type": "code",
      "source": [
        "x.requires_grad_(True)\n",
        "print(x.requires_grad)"
      ],
      "metadata": {
        "colab": {
          "base_uri": "https://localhost:8080/"
        },
        "id": "tnHkqg0nAnzE",
        "outputId": "78ef983b-e0ca-463a-ff88-56e7a29793cd"
      },
      "execution_count": 24,
      "outputs": [
        {
          "output_type": "stream",
          "name": "stdout",
          "text": [
            "True\n"
          ]
        }
      ]
    },
    {
      "cell_type": "code",
      "source": [
        "x = torch.arange(3, dtype=torch.float32, requires_grad=True) # Only float tensors can have gradients\n",
        "print(\"X\", x)"
      ],
      "metadata": {
        "colab": {
          "base_uri": "https://localhost:8080/"
        },
        "id": "9RSHIs1oApTs",
        "outputId": "35149112-294d-4009-c115-67041a5e1141"
      },
      "execution_count": 25,
      "outputs": [
        {
          "output_type": "stream",
          "name": "stdout",
          "text": [
            "X tensor([0., 1., 2.], requires_grad=True)\n"
          ]
        }
      ]
    },
    {
      "cell_type": "code",
      "source": [
        "a = x + 2\n",
        "b = a ** 2\n",
        "c = b + 3\n",
        "y = c.mean()\n",
        "print(\"Y\", y)"
      ],
      "metadata": {
        "colab": {
          "base_uri": "https://localhost:8080/"
        },
        "id": "uRb0dAaWArR2",
        "outputId": "c7fe1246-4297-44b5-b36a-6da4b42535ea"
      },
      "execution_count": 26,
      "outputs": [
        {
          "output_type": "stream",
          "name": "stdout",
          "text": [
            "Y tensor(12.6667, grad_fn=<MeanBackward0>)\n"
          ]
        }
      ]
    },
    {
      "cell_type": "code",
      "source": [
        "y.backward()"
      ],
      "metadata": {
        "id": "hcaORGUoAs5W"
      },
      "execution_count": 27,
      "outputs": []
    },
    {
      "cell_type": "code",
      "source": [
        "print(x.grad)"
      ],
      "metadata": {
        "colab": {
          "base_uri": "https://localhost:8080/"
        },
        "id": "nAJ0pgIPAu1u",
        "outputId": "fab1ee2f-0d6c-4ef6-d2dc-4fcf4443a8bc"
      },
      "execution_count": 28,
      "outputs": [
        {
          "output_type": "stream",
          "name": "stdout",
          "text": [
            "tensor([1.3333, 2.0000, 2.6667])\n"
          ]
        }
      ]
    },
    {
      "cell_type": "code",
      "source": [
        "gpu_avail = torch.cuda.is_available()\n",
        "print(f\"Is the GPU available? {gpu_avail}\")"
      ],
      "metadata": {
        "colab": {
          "base_uri": "https://localhost:8080/"
        },
        "id": "kxH5-4riAwM8",
        "outputId": "b6eb58e5-a8e3-4950-fe1b-ca5ac74f7aac"
      },
      "execution_count": 29,
      "outputs": [
        {
          "output_type": "stream",
          "name": "stdout",
          "text": [
            "Is the GPU available? True\n"
          ]
        }
      ]
    },
    {
      "cell_type": "code",
      "source": [
        "device = torch.device(\"cuda\") if torch.cuda.is_available() else torch.device(\"cpu\")\n",
        "print(\"Device\", device)"
      ],
      "metadata": {
        "colab": {
          "base_uri": "https://localhost:8080/"
        },
        "id": "okRlyWbNAz5k",
        "outputId": "49d545d0-8e05-4104-aaa6-e62f5f1f9749"
      },
      "execution_count": 30,
      "outputs": [
        {
          "output_type": "stream",
          "name": "stdout",
          "text": [
            "Device cuda\n"
          ]
        }
      ]
    },
    {
      "cell_type": "code",
      "source": [
        "x = torch.zeros(2, 3)\n",
        "x = x.to(device)\n",
        "print(\"X\", x)"
      ],
      "metadata": {
        "colab": {
          "base_uri": "https://localhost:8080/"
        },
        "id": "VQm-DZIKA1vF",
        "outputId": "4df42685-3018-4c3d-c1ec-976c4d3c5b2e"
      },
      "execution_count": 31,
      "outputs": [
        {
          "output_type": "stream",
          "name": "stdout",
          "text": [
            "X tensor([[0., 0., 0.],\n",
            "        [0., 0., 0.]], device='cuda:0')\n"
          ]
        }
      ]
    },
    {
      "cell_type": "code",
      "source": [
        "x = torch.randn(5000, 5000)"
      ],
      "metadata": {
        "id": "qy6KmP-GA3hp"
      },
      "execution_count": 32,
      "outputs": []
    },
    {
      "cell_type": "code",
      "source": [
        "## CPU version\n",
        "start_time = time.time()\n",
        "_ = torch.matmul(x, x)\n",
        "end_time = time.time()\n",
        "print(f\"CPU time: {(end_time - start_time):6.5f}s\")\n",
        "\n",
        "## GPU version\n",
        "x = x.to(device)\n",
        "# CUDA is asynchronous, so we need to use different timing functions\n",
        "start = torch.cuda.Event(enable_timing=True)\n",
        "end = torch.cuda.Event(enable_timing=True)\n",
        "start.record()\n",
        "_ = torch.matmul(x, x)\n",
        "end.record()\n",
        "torch.cuda.synchronize()  # Waits for everything to finish running on the GPU\n",
        "print(f\"GPU time: {0.001 * start.elapsed_time(end):6.5f}s\")  # Milliseconds to seconds"
      ],
      "metadata": {
        "colab": {
          "base_uri": "https://localhost:8080/"
        },
        "id": "7WAHCpP7A5VL",
        "outputId": "17ca9728-bc33-40d7-9f2d-9613fc38f3b2"
      },
      "execution_count": 34,
      "outputs": [
        {
          "output_type": "stream",
          "name": "stdout",
          "text": [
            "CPU time: 3.06805s\n",
            "GPU time: 0.13993s\n"
          ]
        }
      ]
    },
    {
      "cell_type": "code",
      "source": [
        "# GPU operations have a separate seed we also want to set\n",
        "if torch.cuda.is_available(): \n",
        "    torch.cuda.manual_seed(42)\n",
        "    torch.cuda.manual_seed_all(42)\n",
        "    \n",
        "# Additionally, some operations on a GPU are implemented stochastic for efficiency\n",
        "# We want to ensure that all operations are deterministic on GPU (if used) for reproducibility\n",
        "torch.backends.cudnn.determinstic = True\n",
        "torch.backends.cudnn.benchmark = False"
      ],
      "metadata": {
        "id": "PzTC8q27B8e5"
      },
      "execution_count": 37,
      "outputs": []
    },
    {
      "cell_type": "code",
      "source": [
        "import torch.nn as nn"
      ],
      "metadata": {
        "id": "WLErs6cWCMyT"
      },
      "execution_count": 38,
      "outputs": []
    },
    {
      "cell_type": "code",
      "source": [
        "import torch.nn.functional as F"
      ],
      "metadata": {
        "id": "yeFvrkR3CU3N"
      },
      "execution_count": 39,
      "outputs": []
    },
    {
      "cell_type": "code",
      "source": [
        "class MyModule(nn.Module):\n",
        "    \n",
        "    def __init__(self):\n",
        "        super().__init__()\n",
        "        # Some init for my module\n",
        "        \n",
        "    def forward(self, x):\n",
        "        # Function for performing the calculation of the module.\n",
        "        pass"
      ],
      "metadata": {
        "id": "Q21x0b0QCXrc"
      },
      "execution_count": 40,
      "outputs": []
    },
    {
      "cell_type": "code",
      "source": [
        "class SimpleClassifier(nn.Module):\n",
        "\n",
        "    def __init__(self, num_inputs, num_hidden, num_outputs):\n",
        "        super().__init__()\n",
        "        # Initialize the modules we need to build the network\n",
        "        self.linear1 = nn.Linear(num_inputs, num_hidden)\n",
        "        self.act_fn = nn.Tanh()\n",
        "        self.linear2 = nn.Linear(num_hidden, num_outputs)\n",
        "\n",
        "    def forward(self, x):\n",
        "        # Perform the calculation of the model to determine the prediction\n",
        "        x = self.linear1(x)\n",
        "        x = self.act_fn(x)\n",
        "        x = self.linear2(x)\n",
        "        return x"
      ],
      "metadata": {
        "id": "k42krDgSCajq"
      },
      "execution_count": 41,
      "outputs": []
    },
    {
      "cell_type": "code",
      "source": [
        "model = SimpleClassifier(num_inputs=2, num_hidden=4, num_outputs=1)\n",
        "# Printing a module shows all its submodules\n",
        "print(model)"
      ],
      "metadata": {
        "colab": {
          "base_uri": "https://localhost:8080/"
        },
        "id": "rgvdnEhKCenc",
        "outputId": "7f7b8e42-3abf-450b-cf59-a7323b9fc1d4"
      },
      "execution_count": 42,
      "outputs": [
        {
          "output_type": "stream",
          "name": "stdout",
          "text": [
            "SimpleClassifier(\n",
            "  (linear1): Linear(in_features=2, out_features=4, bias=True)\n",
            "  (act_fn): Tanh()\n",
            "  (linear2): Linear(in_features=4, out_features=1, bias=True)\n",
            ")\n"
          ]
        }
      ]
    },
    {
      "cell_type": "code",
      "source": [
        "for name, param in model.named_parameters():\n",
        "    print(f\"Parameter {name}, shape {param.shape}\")"
      ],
      "metadata": {
        "colab": {
          "base_uri": "https://localhost:8080/"
        },
        "id": "DnX-0fSvChAX",
        "outputId": "f4d3163b-e6af-457f-df25-72d51078252c"
      },
      "execution_count": 43,
      "outputs": [
        {
          "output_type": "stream",
          "name": "stdout",
          "text": [
            "Parameter linear1.weight, shape torch.Size([4, 2])\n",
            "Parameter linear1.bias, shape torch.Size([4])\n",
            "Parameter linear2.weight, shape torch.Size([1, 4])\n",
            "Parameter linear2.bias, shape torch.Size([1])\n"
          ]
        }
      ]
    },
    {
      "cell_type": "code",
      "source": [
        "import torch.utils.data as data"
      ],
      "metadata": {
        "id": "ZMHJYzgoCjBV"
      },
      "execution_count": 44,
      "outputs": []
    },
    {
      "cell_type": "code",
      "source": [
        ""
      ],
      "metadata": {
        "id": "nGZvRGJ5ClHL"
      },
      "execution_count": null,
      "outputs": []
    },
    {
      "cell_type": "code",
      "execution_count": 45,
      "metadata": {
        "id": "Ic4-Jqqc-tcG"
      },
      "outputs": [],
      "source": [
        "class XORDataset(data.Dataset):\n",
        "\n",
        "    def __init__(self, size, std=0.1):\n",
        "        \"\"\"\n",
        "        Inputs:\n",
        "            size - Number of data points we want to generate\n",
        "            std - Standard deviation of the noise (see generate_continuous_xor function)\n",
        "        \"\"\"\n",
        "        super().__init__()\n",
        "        self.size = size\n",
        "        self.std = std\n",
        "        self.generate_continuous_xor()\n",
        "\n",
        "    def generate_continuous_xor(self):\n",
        "        # Each data point in the XOR dataset has two variables, x and y, that can be either 0 or 1\n",
        "        # The label is their XOR combination, i.e. 1 if only x or only y is 1 while the other is 0.\n",
        "        # If x=y, the label is 0.\n",
        "        data = torch.randint(low=0, high=2, size=(self.size, 2), dtype=torch.float32)\n",
        "        label = (data.sum(dim=1) == 1).to(torch.long)\n",
        "        # To make it slightly more challenging, we add a bit of gaussian noise to the data points.\n",
        "        data += self.std * torch.randn(data.shape)\n",
        "\n",
        "        self.data = data\n",
        "        self.label = label\n",
        "\n",
        "    def __len__(self):\n",
        "        # Number of data point we have. Alternatively self.data.shape[0], or self.label.shape[0]\n",
        "        return self.size\n",
        "\n",
        "    def __getitem__(self, idx):\n",
        "        # Return the idx-th data point of the dataset\n",
        "        # If we have multiple things to return (data point and label), we can return them as tuple\n",
        "        data_point = self.data[idx]\n",
        "        data_label = self.label[idx]\n",
        "        return data_point, data_label"
      ]
    },
    {
      "cell_type": "code",
      "source": [
        "dataset = XORDataset(size=200)\n",
        "print(\"Size of dataset:\", len(dataset))\n",
        "print(\"Data point 0:\", dataset[0])"
      ],
      "metadata": {
        "colab": {
          "base_uri": "https://localhost:8080/"
        },
        "id": "KU-68NvqCpt7",
        "outputId": "48f49298-068e-423b-d396-90913cd01a57"
      },
      "execution_count": 46,
      "outputs": [
        {
          "output_type": "stream",
          "name": "stdout",
          "text": [
            "Size of dataset: 200\n",
            "Data point 0: (tensor([0.9632, 0.1117]), tensor(1))\n"
          ]
        }
      ]
    },
    {
      "cell_type": "code",
      "source": [
        "def visualize_samples(data, label):\n",
        "    if isinstance(data, torch.Tensor):\n",
        "        data = data.cpu().numpy()\n",
        "    if isinstance(label, torch.Tensor):\n",
        "        label = label.cpu().numpy()\n",
        "    data_0 = data[label == 0]\n",
        "    data_1 = data[label == 1]\n",
        "    \n",
        "    plt.figure(figsize=(4,4))\n",
        "    plt.scatter(data_0[:,0], data_0[:,1], edgecolor=\"#333\", label=\"Class 0\")\n",
        "    plt.scatter(data_1[:,0], data_1[:,1], edgecolor=\"#333\", label=\"Class 1\")\n",
        "    plt.title(\"Dataset samples\")\n",
        "    plt.ylabel(r\"$x_2$\")\n",
        "    plt.xlabel(r\"$x_1$\")\n",
        "    plt.legend()"
      ],
      "metadata": {
        "id": "D7W7sBnACsms"
      },
      "execution_count": 47,
      "outputs": []
    },
    {
      "cell_type": "code",
      "source": [
        "visualize_samples(dataset.data, dataset.label)\n",
        "plt.show()"
      ],
      "metadata": {
        "colab": {
          "base_uri": "https://localhost:8080/",
          "height": 398
        },
        "id": "cr7NFDDcCwnC",
        "outputId": "d5e9e2bd-2da1-4a41-be8c-92e459a20d3b"
      },
      "execution_count": 48,
      "outputs": [
        {
          "output_type": "display_data",
          "data": {
            "application/pdf": "[encoded data removed]",
            "text/plain": [
              "<Figure size 288x288 with 1 Axes>"
            ],
            "image/svg+xml": "<?xml version=\"1.0\" encoding=\"utf-8\" standalone=\"no\"?>\n<!DOCTYPE svg PUBLIC \"-//W3C//DTD SVG 1.1//EN\"\n  \"http://www.w3.org/Graphics/SVG/1.1/DTD/svg11.dtd\">\n<!-- Created with matplotlib (https://matplotlib.org/) -->\n<svg height=\"282.717813pt\" version=\"1.1\" viewBox=\"0 0 289.424844 282.717813\" width=\"289.424844pt\" xmlns=\"http://www.w3.org/2000/svg\" xmlns:xlink=\"http://www.w3.org/1999/xlink\">\n <defs>\n  <style type=\"text/css\">\n*{stroke-linecap:butt;stroke-linejoin:round;}\n  </style>\n </defs>\n <g id=\"figure_1\">\n  <g id=\"patch_1\">\n   <path d=\"M 0 282.717813 \nL 289.424844 282.717813 \nL 289.424844 0 \nL 0 0 \nz\n\" style=\"fill:none;\"/>\n  </g>\n  <g id=\"axes_1\">\n   <g id=\"patch_2\">\n    <path d=\"M 59.024844 239.758125 \nL 282.224844 239.758125 \nL 282.224844 22.318125 \nL 59.024844 22.318125 \nz\n\" style=\"fill:#eaeaf2;\"/>\n   </g>\n   <g id=\"matplotlib.axis_1\">\n    <g id=\"xtick_1\">\n     <g id=\"line2d_1\">\n      <path clip-path=\"url(#p6541fdb6b5)\" d=\"M 104.136211 239.758125 \nL 104.136211 22.318125 \n\" style=\"fill:none;stroke:#ffffff;stroke-linecap:round;\"/>\n     </g>\n     <g id=\"text_1\">\n      <!-- 0.0 -->\n      <defs>\n       <path d=\"M 31.78125 66.40625 \nQ 24.171875 66.40625 20.328125 58.90625 \nQ 16.5 51.421875 16.5 36.375 \nQ 16.5 21.390625 20.328125 13.890625 \nQ 24.171875 6.390625 31.78125 6.390625 \nQ 39.453125 6.390625 43.28125 13.890625 \nQ 47.125 21.390625 47.125 36.375 \nQ 47.125 51.421875 43.28125 58.90625 \nQ 39.453125 66.40625 31.78125 66.40625 \nz\nM 31.78125 74.21875 \nQ 44.046875 74.21875 50.515625 64.515625 \nQ 56.984375 54.828125 56.984375 36.375 \nQ 56.984375 17.96875 50.515625 8.265625 \nQ 44.046875 -1.421875 31.78125 -1.421875 \nQ 19.53125 -1.421875 13.0625 8.265625 \nQ 6.59375 17.96875 6.59375 36.375 \nQ 6.59375 54.828125 13.0625 64.515625 \nQ 19.53125 74.21875 31.78125 74.21875 \nz\n\" id=\"DejaVuSans-48\"/>\n       <path d=\"M 10.6875 12.40625 \nL 21 12.40625 \nL 21 0 \nL 10.6875 0 \nz\n\" id=\"DejaVuSans-46\"/>\n      </defs>\n      <g style=\"fill:#262626;\" transform=\"translate(95.389492 257.616406)scale(0.11 -0.11)\">\n       <use xlink:href=\"#DejaVuSans-48\"/>\n       <use x=\"63.623047\" xlink:href=\"#DejaVuSans-46\"/>\n       <use x=\"95.410156\" xlink:href=\"#DejaVuSans-48\"/>\n      </g>\n     </g>\n    </g>\n    <g id=\"xtick_2\">\n     <g id=\"line2d_2\">\n      <path clip-path=\"url(#p6541fdb6b5)\" d=\"M 173.488267 239.758125 \nL 173.488267 22.318125 \n\" style=\"fill:none;stroke:#ffffff;stroke-linecap:round;\"/>\n     </g>\n     <g id=\"text_2\">\n      <!-- 0.5 -->\n      <defs>\n       <path d=\"M 10.796875 72.90625 \nL 49.515625 72.90625 \nL 49.515625 64.59375 \nL 19.828125 64.59375 \nL 19.828125 46.734375 \nQ 21.96875 47.46875 24.109375 47.828125 \nQ 26.265625 48.1875 28.421875 48.1875 \nQ 40.625 48.1875 47.75 41.5 \nQ 54.890625 34.8125 54.890625 23.390625 \nQ 54.890625 11.625 47.5625 5.09375 \nQ 40.234375 -1.421875 26.90625 -1.421875 \nQ 22.3125 -1.421875 17.546875 -0.640625 \nQ 12.796875 0.140625 7.71875 1.703125 \nL 7.71875 11.625 \nQ 12.109375 9.234375 16.796875 8.0625 \nQ 21.484375 6.890625 26.703125 6.890625 \nQ 35.15625 6.890625 40.078125 11.328125 \nQ 45.015625 15.765625 45.015625 23.390625 \nQ 45.015625 31 40.078125 35.4375 \nQ 35.15625 39.890625 26.703125 39.890625 \nQ 22.75 39.890625 18.8125 39.015625 \nQ 14.890625 38.140625 10.796875 36.28125 \nz\n\" id=\"DejaVuSans-53\"/>\n      </defs>\n      <g style=\"fill:#262626;\" transform=\"translate(164.741548 257.616406)scale(0.11 -0.11)\">\n       <use xlink:href=\"#DejaVuSans-48\"/>\n       <use x=\"63.623047\" xlink:href=\"#DejaVuSans-46\"/>\n       <use x=\"95.410156\" xlink:href=\"#DejaVuSans-53\"/>\n      </g>\n     </g>\n    </g>\n    <g id=\"xtick_3\">\n     <g id=\"line2d_3\">\n      <path clip-path=\"url(#p6541fdb6b5)\" d=\"M 242.840324 239.758125 \nL 242.840324 22.318125 \n\" style=\"fill:none;stroke:#ffffff;stroke-linecap:round;\"/>\n     </g>\n     <g id=\"text_3\">\n      <!-- 1.0 -->\n      <defs>\n       <path d=\"M 12.40625 8.296875 \nL 28.515625 8.296875 \nL 28.515625 63.921875 \nL 10.984375 60.40625 \nL 10.984375 69.390625 \nL 28.421875 72.90625 \nL 38.28125 72.90625 \nL 38.28125 8.296875 \nL 54.390625 8.296875 \nL 54.390625 0 \nL 12.40625 0 \nz\n\" id=\"DejaVuSans-49\"/>\n      </defs>\n      <g style=\"fill:#262626;\" transform=\"translate(234.093605 257.616406)scale(0.11 -0.11)\">\n       <use xlink:href=\"#DejaVuSans-49\"/>\n       <use x=\"63.623047\" xlink:href=\"#DejaVuSans-46\"/>\n       <use x=\"95.410156\" xlink:href=\"#DejaVuSans-48\"/>\n      </g>\n     </g>\n    </g>\n    <g id=\"text_4\">\n     <!-- $x_1$ -->\n     <defs>\n      <path d=\"M 60.015625 54.6875 \nL 34.90625 27.875 \nL 50.296875 0 \nL 39.984375 0 \nL 28.421875 21.6875 \nL 8.296875 0 \nL -2.59375 0 \nL 24.3125 28.8125 \nL 10.015625 54.6875 \nL 20.3125 54.6875 \nL 30.8125 34.90625 \nL 49.125 54.6875 \nz\n\" id=\"DejaVuSans-Oblique-120\"/>\n     </defs>\n     <g style=\"fill:#262626;\" transform=\"translate(164.204844 273.022188)scale(0.12 -0.12)\">\n      <use transform=\"translate(0 0.3125)\" xlink:href=\"#DejaVuSans-Oblique-120\"/>\n      <use transform=\"translate(59.179688 -16.09375)scale(0.7)\" xlink:href=\"#DejaVuSans-49\"/>\n     </g>\n    </g>\n   </g>\n   <g id=\"matplotlib.axis_2\">\n    <g id=\"ytick_1\">\n     <g id=\"line2d_4\">\n      <path clip-path=\"url(#p6541fdb6b5)\" d=\"M 59.024844 223.94267 \nL 282.224844 223.94267 \n\" style=\"fill:none;stroke:#ffffff;stroke-linecap:round;\"/>\n     </g>\n     <g id=\"text_5\">\n      <!-- −0.2 -->\n      <defs>\n       <path d=\"M 10.59375 35.5 \nL 73.1875 35.5 \nL 73.1875 27.203125 \nL 10.59375 27.203125 \nz\n\" id=\"DejaVuSans-8722\"/>\n       <path d=\"M 19.1875 8.296875 \nL 53.609375 8.296875 \nL 53.609375 0 \nL 7.328125 0 \nL 7.328125 8.296875 \nQ 12.9375 14.109375 22.625 23.890625 \nQ 32.328125 33.6875 34.8125 36.53125 \nQ 39.546875 41.84375 41.421875 45.53125 \nQ 43.3125 49.21875 43.3125 52.78125 \nQ 43.3125 58.59375 39.234375 62.25 \nQ 35.15625 65.921875 28.609375 65.921875 \nQ 23.96875 65.921875 18.8125 64.3125 \nQ 13.671875 62.703125 7.8125 59.421875 \nL 7.8125 69.390625 \nQ 13.765625 71.78125 18.9375 73 \nQ 24.125 74.21875 28.421875 74.21875 \nQ 39.75 74.21875 46.484375 68.546875 \nQ 53.21875 62.890625 53.21875 53.421875 \nQ 53.21875 48.921875 51.53125 44.890625 \nQ 49.859375 40.875 45.40625 35.40625 \nQ 44.1875 33.984375 37.640625 27.21875 \nQ 31.109375 20.453125 19.1875 8.296875 \nz\n\" id=\"DejaVuSans-50\"/>\n      </defs>\n      <g style=\"fill:#262626;\" transform=\"translate(22.81375 228.121811)scale(0.11 -0.11)\">\n       <use xlink:href=\"#DejaVuSans-8722\"/>\n       <use x=\"83.789062\" xlink:href=\"#DejaVuSans-48\"/>\n       <use x=\"147.412109\" xlink:href=\"#DejaVuSans-46\"/>\n       <use x=\"179.199219\" xlink:href=\"#DejaVuSans-50\"/>\n      </g>\n     </g>\n    </g>\n    <g id=\"ytick_2\">\n     <g id=\"line2d_5\">\n      <path clip-path=\"url(#p6541fdb6b5)\" d=\"M 59.024844 196.335617 \nL 282.224844 196.335617 \n\" style=\"fill:none;stroke:#ffffff;stroke-linecap:round;\"/>\n     </g>\n     <g id=\"text_6\">\n      <!-- 0.0 -->\n      <g style=\"fill:#262626;\" transform=\"translate(32.031406 200.514758)scale(0.11 -0.11)\">\n       <use xlink:href=\"#DejaVuSans-48\"/>\n       <use x=\"63.623047\" xlink:href=\"#DejaVuSans-46\"/>\n       <use x=\"95.410156\" xlink:href=\"#DejaVuSans-48\"/>\n      </g>\n     </g>\n    </g>\n    <g id=\"ytick_3\">\n     <g id=\"line2d_6\">\n      <path clip-path=\"url(#p6541fdb6b5)\" d=\"M 59.024844 168.728564 \nL 282.224844 168.728564 \n\" style=\"fill:none;stroke:#ffffff;stroke-linecap:round;\"/>\n     </g>\n     <g id=\"text_7\">\n      <!-- 0.2 -->\n      <g style=\"fill:#262626;\" transform=\"translate(32.031406 172.907704)scale(0.11 -0.11)\">\n       <use xlink:href=\"#DejaVuSans-48\"/>\n       <use x=\"63.623047\" xlink:href=\"#DejaVuSans-46\"/>\n       <use x=\"95.410156\" xlink:href=\"#DejaVuSans-50\"/>\n      </g>\n     </g>\n    </g>\n    <g id=\"ytick_4\">\n     <g id=\"line2d_7\">\n      <path clip-path=\"url(#p6541fdb6b5)\" d=\"M 59.024844 141.12151 \nL 282.224844 141.12151 \n\" style=\"fill:none;stroke:#ffffff;stroke-linecap:round;\"/>\n     </g>\n     <g id=\"text_8\">\n      <!-- 0.4 -->\n      <defs>\n       <path d=\"M 37.796875 64.3125 \nL 12.890625 25.390625 \nL 37.796875 25.390625 \nz\nM 35.203125 72.90625 \nL 47.609375 72.90625 \nL 47.609375 25.390625 \nL 58.015625 25.390625 \nL 58.015625 17.1875 \nL 47.609375 17.1875 \nL 47.609375 0 \nL 37.796875 0 \nL 37.796875 17.1875 \nL 4.890625 17.1875 \nL 4.890625 26.703125 \nz\n\" id=\"DejaVuSans-52\"/>\n      </defs>\n      <g style=\"fill:#262626;\" transform=\"translate(32.031406 145.300651)scale(0.11 -0.11)\">\n       <use xlink:href=\"#DejaVuSans-48\"/>\n       <use x=\"63.623047\" xlink:href=\"#DejaVuSans-46\"/>\n       <use x=\"95.410156\" xlink:href=\"#DejaVuSans-52\"/>\n      </g>\n     </g>\n    </g>\n    <g id=\"ytick_5\">\n     <g id=\"line2d_8\">\n      <path clip-path=\"url(#p6541fdb6b5)\" d=\"M 59.024844 113.514457 \nL 282.224844 113.514457 \n\" style=\"fill:none;stroke:#ffffff;stroke-linecap:round;\"/>\n     </g>\n     <g id=\"text_9\">\n      <!-- 0.6 -->\n      <defs>\n       <path d=\"M 33.015625 40.375 \nQ 26.375 40.375 22.484375 35.828125 \nQ 18.609375 31.296875 18.609375 23.390625 \nQ 18.609375 15.53125 22.484375 10.953125 \nQ 26.375 6.390625 33.015625 6.390625 \nQ 39.65625 6.390625 43.53125 10.953125 \nQ 47.40625 15.53125 47.40625 23.390625 \nQ 47.40625 31.296875 43.53125 35.828125 \nQ 39.65625 40.375 33.015625 40.375 \nz\nM 52.59375 71.296875 \nL 52.59375 62.3125 \nQ 48.875 64.0625 45.09375 64.984375 \nQ 41.3125 65.921875 37.59375 65.921875 \nQ 27.828125 65.921875 22.671875 59.328125 \nQ 17.53125 52.734375 16.796875 39.40625 \nQ 19.671875 43.65625 24.015625 45.921875 \nQ 28.375 48.1875 33.59375 48.1875 \nQ 44.578125 48.1875 50.953125 41.515625 \nQ 57.328125 34.859375 57.328125 23.390625 \nQ 57.328125 12.15625 50.6875 5.359375 \nQ 44.046875 -1.421875 33.015625 -1.421875 \nQ 20.359375 -1.421875 13.671875 8.265625 \nQ 6.984375 17.96875 6.984375 36.375 \nQ 6.984375 53.65625 15.1875 63.9375 \nQ 23.390625 74.21875 37.203125 74.21875 \nQ 40.921875 74.21875 44.703125 73.484375 \nQ 48.484375 72.75 52.59375 71.296875 \nz\n\" id=\"DejaVuSans-54\"/>\n      </defs>\n      <g style=\"fill:#262626;\" transform=\"translate(32.031406 117.693598)scale(0.11 -0.11)\">\n       <use xlink:href=\"#DejaVuSans-48\"/>\n       <use x=\"63.623047\" xlink:href=\"#DejaVuSans-46\"/>\n       <use x=\"95.410156\" xlink:href=\"#DejaVuSans-54\"/>\n      </g>\n     </g>\n    </g>\n    <g id=\"ytick_6\">\n     <g id=\"line2d_9\">\n      <path clip-path=\"url(#p6541fdb6b5)\" d=\"M 59.024844 85.907404 \nL 282.224844 85.907404 \n\" style=\"fill:none;stroke:#ffffff;stroke-linecap:round;\"/>\n     </g>\n     <g id=\"text_10\">\n      <!-- 0.8 -->\n      <defs>\n       <path d=\"M 31.78125 34.625 \nQ 24.75 34.625 20.71875 30.859375 \nQ 16.703125 27.09375 16.703125 20.515625 \nQ 16.703125 13.921875 20.71875 10.15625 \nQ 24.75 6.390625 31.78125 6.390625 \nQ 38.8125 6.390625 42.859375 10.171875 \nQ 46.921875 13.96875 46.921875 20.515625 \nQ 46.921875 27.09375 42.890625 30.859375 \nQ 38.875 34.625 31.78125 34.625 \nz\nM 21.921875 38.8125 \nQ 15.578125 40.375 12.03125 44.71875 \nQ 8.5 49.078125 8.5 55.328125 \nQ 8.5 64.0625 14.71875 69.140625 \nQ 20.953125 74.21875 31.78125 74.21875 \nQ 42.671875 74.21875 48.875 69.140625 \nQ 55.078125 64.0625 55.078125 55.328125 \nQ 55.078125 49.078125 51.53125 44.71875 \nQ 48 40.375 41.703125 38.8125 \nQ 48.828125 37.15625 52.796875 32.3125 \nQ 56.78125 27.484375 56.78125 20.515625 \nQ 56.78125 9.90625 50.3125 4.234375 \nQ 43.84375 -1.421875 31.78125 -1.421875 \nQ 19.734375 -1.421875 13.25 4.234375 \nQ 6.78125 9.90625 6.78125 20.515625 \nQ 6.78125 27.484375 10.78125 32.3125 \nQ 14.796875 37.15625 21.921875 38.8125 \nz\nM 18.3125 54.390625 \nQ 18.3125 48.734375 21.84375 45.5625 \nQ 25.390625 42.390625 31.78125 42.390625 \nQ 38.140625 42.390625 41.71875 45.5625 \nQ 45.3125 48.734375 45.3125 54.390625 \nQ 45.3125 60.0625 41.71875 63.234375 \nQ 38.140625 66.40625 31.78125 66.40625 \nQ 25.390625 66.40625 21.84375 63.234375 \nQ 18.3125 60.0625 18.3125 54.390625 \nz\n\" id=\"DejaVuSans-56\"/>\n      </defs>\n      <g style=\"fill:#262626;\" transform=\"translate(32.031406 90.086545)scale(0.11 -0.11)\">\n       <use xlink:href=\"#DejaVuSans-48\"/>\n       <use x=\"63.623047\" xlink:href=\"#DejaVuSans-46\"/>\n       <use x=\"95.410156\" xlink:href=\"#DejaVuSans-56\"/>\n      </g>\n     </g>\n    </g>\n    <g id=\"ytick_7\">\n     <g id=\"line2d_10\">\n      <path clip-path=\"url(#p6541fdb6b5)\" d=\"M 59.024844 58.300351 \nL 282.224844 58.300351 \n\" style=\"fill:none;stroke:#ffffff;stroke-linecap:round;\"/>\n     </g>\n     <g id=\"text_11\">\n      <!-- 1.0 -->\n      <g style=\"fill:#262626;\" transform=\"translate(32.031406 62.479491)scale(0.11 -0.11)\">\n       <use xlink:href=\"#DejaVuSans-49\"/>\n       <use x=\"63.623047\" xlink:href=\"#DejaVuSans-46\"/>\n       <use x=\"95.410156\" xlink:href=\"#DejaVuSans-48\"/>\n      </g>\n     </g>\n    </g>\n    <g id=\"ytick_8\">\n     <g id=\"line2d_11\">\n      <path clip-path=\"url(#p6541fdb6b5)\" d=\"M 59.024844 30.693297 \nL 282.224844 30.693297 \n\" style=\"fill:none;stroke:#ffffff;stroke-linecap:round;\"/>\n     </g>\n     <g id=\"text_12\">\n      <!-- 1.2 -->\n      <g style=\"fill:#262626;\" transform=\"translate(32.031406 34.872438)scale(0.11 -0.11)\">\n       <use xlink:href=\"#DejaVuSans-49\"/>\n       <use x=\"63.623047\" xlink:href=\"#DejaVuSans-46\"/>\n       <use x=\"95.410156\" xlink:href=\"#DejaVuSans-50\"/>\n      </g>\n     </g>\n    </g>\n    <g id=\"text_13\">\n     <!-- $x_2$ -->\n     <g style=\"fill:#262626;\" transform=\"translate(16.318125 137.458125)rotate(-90)scale(0.12 -0.12)\">\n      <use transform=\"translate(0 0.3125)\" xlink:href=\"#DejaVuSans-Oblique-120\"/>\n      <use transform=\"translate(59.179688 -16.09375)scale(0.7)\" xlink:href=\"#DejaVuSans-50\"/>\n     </g>\n    </g>\n   </g>\n   <g id=\"PathCollection_1\">\n    <defs>\n     <path d=\"M 0 3 \nC 0.795609 3 1.55874 2.683901 2.12132 2.12132 \nC 2.683901 1.55874 3 0.795609 3 0 \nC 3 -0.795609 2.683901 -1.55874 2.12132 -2.12132 \nC 1.55874 -2.683901 0.795609 -3 0 -3 \nC -0.795609 -3 -1.55874 -2.683901 -2.12132 -2.12132 \nC -2.683901 -1.55874 -3 -0.795609 -3 0 \nC -3 0.795609 -2.683901 1.55874 -2.12132 2.12132 \nC -1.55874 2.683901 -0.795609 3 0 3 \nz\n\" id=\"m6384a01a34\" style=\"stroke:#333333;\"/>\n    </defs>\n    <g clip-path=\"url(#p6541fdb6b5)\">\n     <use style=\"fill:#4c72b0;stroke:#333333;\" x=\"103.175587\" xlink:href=\"#m6384a01a34\" y=\"193.325344\"/>\n     <use style=\"fill:#4c72b0;stroke:#333333;\" x=\"238.921563\" xlink:href=\"#m6384a01a34\" y=\"62.145049\"/>\n     <use style=\"fill:#4c72b0;stroke:#333333;\" x=\"265.843348\" xlink:href=\"#m6384a01a34\" y=\"63.780462\"/>\n     <use style=\"fill:#4c72b0;stroke:#333333;\" x=\"115.777274\" xlink:href=\"#m6384a01a34\" y=\"204.409578\"/>\n     <use style=\"fill:#4c72b0;stroke:#333333;\" x=\"108.189714\" xlink:href=\"#m6384a01a34\" y=\"205.043015\"/>\n     <use style=\"fill:#4c72b0;stroke:#333333;\" x=\"77.84736\" xlink:href=\"#m6384a01a34\" y=\"189.560429\"/>\n     <use style=\"fill:#4c72b0;stroke:#333333;\" x=\"249.749447\" xlink:href=\"#m6384a01a34\" y=\"58.566133\"/>\n     <use style=\"fill:#4c72b0;stroke:#333333;\" x=\"238.880615\" xlink:href=\"#m6384a01a34\" y=\"51.440521\"/>\n     <use style=\"fill:#4c72b0;stroke:#333333;\" x=\"100.84285\" xlink:href=\"#m6384a01a34\" y=\"204.550687\"/>\n     <use style=\"fill:#4c72b0;stroke:#333333;\" x=\"244.40288\" xlink:href=\"#m6384a01a34\" y=\"53.572047\"/>\n     <use style=\"fill:#4c72b0;stroke:#333333;\" x=\"110.407015\" xlink:href=\"#m6384a01a34\" y=\"200.309835\"/>\n     <use style=\"fill:#4c72b0;stroke:#333333;\" x=\"262.419004\" xlink:href=\"#m6384a01a34\" y=\"32.201761\"/>\n     <use style=\"fill:#4c72b0;stroke:#333333;\" x=\"244.921908\" xlink:href=\"#m6384a01a34\" y=\"62.589723\"/>\n     <use style=\"fill:#4c72b0;stroke:#333333;\" x=\"239.033967\" xlink:href=\"#m6384a01a34\" y=\"57.754453\"/>\n     <use style=\"fill:#4c72b0;stroke:#333333;\" x=\"101.128083\" xlink:href=\"#m6384a01a34\" y=\"212.626168\"/>\n     <use style=\"fill:#4c72b0;stroke:#333333;\" x=\"96.095741\" xlink:href=\"#m6384a01a34\" y=\"185.037671\"/>\n     <use style=\"fill:#4c72b0;stroke:#333333;\" x=\"258.131327\" xlink:href=\"#m6384a01a34\" y=\"90.813692\"/>\n     <use style=\"fill:#4c72b0;stroke:#333333;\" x=\"261.679385\" xlink:href=\"#m6384a01a34\" y=\"83.753102\"/>\n     <use style=\"fill:#4c72b0;stroke:#333333;\" x=\"232.969243\" xlink:href=\"#m6384a01a34\" y=\"59.138235\"/>\n     <use style=\"fill:#4c72b0;stroke:#333333;\" x=\"88.886799\" xlink:href=\"#m6384a01a34\" y=\"209.202243\"/>\n     <use style=\"fill:#4c72b0;stroke:#333333;\" x=\"260.837035\" xlink:href=\"#m6384a01a34\" y=\"32.62492\"/>\n     <use style=\"fill:#4c72b0;stroke:#333333;\" x=\"252.014817\" xlink:href=\"#m6384a01a34\" y=\"59.955798\"/>\n     <use style=\"fill:#4c72b0;stroke:#333333;\" x=\"121.285893\" xlink:href=\"#m6384a01a34\" y=\"175.83743\"/>\n     <use style=\"fill:#4c72b0;stroke:#333333;\" x=\"235.52169\" xlink:href=\"#m6384a01a34\" y=\"32.336249\"/>\n     <use style=\"fill:#4c72b0;stroke:#333333;\" x=\"106.644921\" xlink:href=\"#m6384a01a34\" y=\"194.777215\"/>\n     <use style=\"fill:#4c72b0;stroke:#333333;\" x=\"234.671081\" xlink:href=\"#m6384a01a34\" y=\"51.50491\"/>\n     <use style=\"fill:#4c72b0;stroke:#333333;\" x=\"93.74526\" xlink:href=\"#m6384a01a34\" y=\"179.492748\"/>\n     <use style=\"fill:#4c72b0;stroke:#333333;\" x=\"257.590969\" xlink:href=\"#m6384a01a34\" y=\"48.77409\"/>\n     <use style=\"fill:#4c72b0;stroke:#333333;\" x=\"253.260186\" xlink:href=\"#m6384a01a34\" y=\"61.512745\"/>\n     <use style=\"fill:#4c72b0;stroke:#333333;\" x=\"247.043425\" xlink:href=\"#m6384a01a34\" y=\"43.69401\"/>\n     <use style=\"fill:#4c72b0;stroke:#333333;\" x=\"99.204887\" xlink:href=\"#m6384a01a34\" y=\"184.373252\"/>\n     <use style=\"fill:#4c72b0;stroke:#333333;\" x=\"111.370021\" xlink:href=\"#m6384a01a34\" y=\"209.709719\"/>\n     <use style=\"fill:#4c72b0;stroke:#333333;\" x=\"94.224345\" xlink:href=\"#m6384a01a34\" y=\"169.625602\"/>\n     <use style=\"fill:#4c72b0;stroke:#333333;\" x=\"104.609392\" xlink:href=\"#m6384a01a34\" y=\"201.318829\"/>\n     <use style=\"fill:#4c72b0;stroke:#333333;\" x=\"119.066364\" xlink:href=\"#m6384a01a34\" y=\"200.867622\"/>\n     <use style=\"fill:#4c72b0;stroke:#333333;\" x=\"100.250642\" xlink:href=\"#m6384a01a34\" y=\"195.701852\"/>\n     <use style=\"fill:#4c72b0;stroke:#333333;\" x=\"119.826314\" xlink:href=\"#m6384a01a34\" y=\"212.211753\"/>\n     <use style=\"fill:#4c72b0;stroke:#333333;\" x=\"220.787431\" xlink:href=\"#m6384a01a34\" y=\"39.620323\"/>\n     <use style=\"fill:#4c72b0;stroke:#333333;\" x=\"260.272851\" xlink:href=\"#m6384a01a34\" y=\"64.604829\"/>\n     <use style=\"fill:#4c72b0;stroke:#333333;\" x=\"245.066505\" xlink:href=\"#m6384a01a34\" y=\"63.759786\"/>\n     <use style=\"fill:#4c72b0;stroke:#333333;\" x=\"100.198665\" xlink:href=\"#m6384a01a34\" y=\"205.410605\"/>\n     <use style=\"fill:#4c72b0;stroke:#333333;\" x=\"229.560921\" xlink:href=\"#m6384a01a34\" y=\"89.092646\"/>\n     <use style=\"fill:#4c72b0;stroke:#333333;\" x=\"252.931424\" xlink:href=\"#m6384a01a34\" y=\"56.781365\"/>\n     <use style=\"fill:#4c72b0;stroke:#333333;\" x=\"104.772263\" xlink:href=\"#m6384a01a34\" y=\"212.127081\"/>\n     <use style=\"fill:#4c72b0;stroke:#333333;\" x=\"117.472818\" xlink:href=\"#m6384a01a34\" y=\"217.677792\"/>\n     <use style=\"fill:#4c72b0;stroke:#333333;\" x=\"126.142513\" xlink:href=\"#m6384a01a34\" y=\"177.02797\"/>\n     <use style=\"fill:#4c72b0;stroke:#333333;\" x=\"236.295181\" xlink:href=\"#m6384a01a34\" y=\"71.868079\"/>\n     <use style=\"fill:#4c72b0;stroke:#333333;\" x=\"223.971929\" xlink:href=\"#m6384a01a34\" y=\"44.358713\"/>\n     <use style=\"fill:#4c72b0;stroke:#333333;\" x=\"97.284907\" xlink:href=\"#m6384a01a34\" y=\"205.813556\"/>\n     <use style=\"fill:#4c72b0;stroke:#333333;\" x=\"237.50152\" xlink:href=\"#m6384a01a34\" y=\"68.485687\"/>\n     <use style=\"fill:#4c72b0;stroke:#333333;\" x=\"105.506427\" xlink:href=\"#m6384a01a34\" y=\"201.033344\"/>\n     <use style=\"fill:#4c72b0;stroke:#333333;\" x=\"249.16046\" xlink:href=\"#m6384a01a34\" y=\"33.609264\"/>\n     <use style=\"fill:#4c72b0;stroke:#333333;\" x=\"102.030951\" xlink:href=\"#m6384a01a34\" y=\"188.760034\"/>\n     <use style=\"fill:#4c72b0;stroke:#333333;\" x=\"234.523839\" xlink:href=\"#m6384a01a34\" y=\"76.575953\"/>\n     <use style=\"fill:#4c72b0;stroke:#333333;\" x=\"246.0265\" xlink:href=\"#m6384a01a34\" y=\"47.436505\"/>\n     <use style=\"fill:#4c72b0;stroke:#333333;\" x=\"77.849441\" xlink:href=\"#m6384a01a34\" y=\"190.609003\"/>\n     <use style=\"fill:#4c72b0;stroke:#333333;\" x=\"223.848588\" xlink:href=\"#m6384a01a34\" y=\"47.197067\"/>\n     <use style=\"fill:#4c72b0;stroke:#333333;\" x=\"254.206341\" xlink:href=\"#m6384a01a34\" y=\"65.6149\"/>\n     <use style=\"fill:#4c72b0;stroke:#333333;\" x=\"89.806419\" xlink:href=\"#m6384a01a34\" y=\"196.823089\"/>\n     <use style=\"fill:#4c72b0;stroke:#333333;\" x=\"101.474114\" xlink:href=\"#m6384a01a34\" y=\"229.874489\"/>\n     <use style=\"fill:#4c72b0;stroke:#333333;\" x=\"100.92905\" xlink:href=\"#m6384a01a34\" y=\"199.872245\"/>\n     <use style=\"fill:#4c72b0;stroke:#333333;\" x=\"82.790407\" xlink:href=\"#m6384a01a34\" y=\"200.007537\"/>\n     <use style=\"fill:#4c72b0;stroke:#333333;\" x=\"268.426038\" xlink:href=\"#m6384a01a34\" y=\"65.752612\"/>\n     <use style=\"fill:#4c72b0;stroke:#333333;\" x=\"234.515365\" xlink:href=\"#m6384a01a34\" y=\"73.759575\"/>\n     <use style=\"fill:#4c72b0;stroke:#333333;\" x=\"260.429931\" xlink:href=\"#m6384a01a34\" y=\"39.679857\"/>\n     <use style=\"fill:#4c72b0;stroke:#333333;\" x=\"83.354631\" xlink:href=\"#m6384a01a34\" y=\"185.321057\"/>\n     <use style=\"fill:#4c72b0;stroke:#333333;\" x=\"245.761431\" xlink:href=\"#m6384a01a34\" y=\"82.429587\"/>\n     <use style=\"fill:#4c72b0;stroke:#333333;\" x=\"256.086995\" xlink:href=\"#m6384a01a34\" y=\"89.661589\"/>\n     <use style=\"fill:#4c72b0;stroke:#333333;\" x=\"125.251842\" xlink:href=\"#m6384a01a34\" y=\"218.303568\"/>\n     <use style=\"fill:#4c72b0;stroke:#333333;\" x=\"115.574613\" xlink:href=\"#m6384a01a34\" y=\"207.070547\"/>\n     <use style=\"fill:#4c72b0;stroke:#333333;\" x=\"101.824266\" xlink:href=\"#m6384a01a34\" y=\"190.023846\"/>\n     <use style=\"fill:#4c72b0;stroke:#333333;\" x=\"102.668211\" xlink:href=\"#m6384a01a34\" y=\"187.711556\"/>\n     <use style=\"fill:#4c72b0;stroke:#333333;\" x=\"246.373252\" xlink:href=\"#m6384a01a34\" y=\"53.869424\"/>\n     <use style=\"fill:#4c72b0;stroke:#333333;\" x=\"233.834924\" xlink:href=\"#m6384a01a34\" y=\"88.154106\"/>\n     <use style=\"fill:#4c72b0;stroke:#333333;\" x=\"101.780765\" xlink:href=\"#m6384a01a34\" y=\"195.521558\"/>\n     <use style=\"fill:#4c72b0;stroke:#333333;\" x=\"113.855176\" xlink:href=\"#m6384a01a34\" y=\"186.850471\"/>\n     <use style=\"fill:#4c72b0;stroke:#333333;\" x=\"115.431864\" xlink:href=\"#m6384a01a34\" y=\"194.117803\"/>\n     <use style=\"fill:#4c72b0;stroke:#333333;\" x=\"246.091317\" xlink:href=\"#m6384a01a34\" y=\"37.590473\"/>\n     <use style=\"fill:#4c72b0;stroke:#333333;\" x=\"245.18129\" xlink:href=\"#m6384a01a34\" y=\"35.754283\"/>\n     <use style=\"fill:#4c72b0;stroke:#333333;\" x=\"103.858405\" xlink:href=\"#m6384a01a34\" y=\"208.108344\"/>\n     <use style=\"fill:#4c72b0;stroke:#333333;\" x=\"256.895945\" xlink:href=\"#m6384a01a34\" y=\"37.701594\"/>\n     <use style=\"fill:#4c72b0;stroke:#333333;\" x=\"239.223307\" xlink:href=\"#m6384a01a34\" y=\"72.374698\"/>\n     <use style=\"fill:#4c72b0;stroke:#333333;\" x=\"255.063622\" xlink:href=\"#m6384a01a34\" y=\"33.573869\"/>\n     <use style=\"fill:#4c72b0;stroke:#333333;\" x=\"95.292954\" xlink:href=\"#m6384a01a34\" y=\"192.95304\"/>\n     <use style=\"fill:#4c72b0;stroke:#333333;\" x=\"241.134476\" xlink:href=\"#m6384a01a34\" y=\"47.995435\"/>\n     <use style=\"fill:#4c72b0;stroke:#333333;\" x=\"105.39991\" xlink:href=\"#m6384a01a34\" y=\"212.515425\"/>\n     <use style=\"fill:#4c72b0;stroke:#333333;\" x=\"114.664014\" xlink:href=\"#m6384a01a34\" y=\"204.310706\"/>\n     <use style=\"fill:#4c72b0;stroke:#333333;\" x=\"94.590702\" xlink:href=\"#m6384a01a34\" y=\"191.216589\"/>\n     <use style=\"fill:#4c72b0;stroke:#333333;\" x=\"219.680904\" xlink:href=\"#m6384a01a34\" y=\"53.841351\"/>\n     <use style=\"fill:#4c72b0;stroke:#333333;\" x=\"232.032075\" xlink:href=\"#m6384a01a34\" y=\"47.841136\"/>\n     <use style=\"fill:#4c72b0;stroke:#333333;\" x=\"209.50665\" xlink:href=\"#m6384a01a34\" y=\"44.693113\"/>\n     <use style=\"fill:#4c72b0;stroke:#333333;\" x=\"93.845438\" xlink:href=\"#m6384a01a34\" y=\"191.534849\"/>\n     <use style=\"fill:#4c72b0;stroke:#333333;\" x=\"123.551329\" xlink:href=\"#m6384a01a34\" y=\"206.975146\"/>\n     <use style=\"fill:#4c72b0;stroke:#333333;\" x=\"98.640687\" xlink:href=\"#m6384a01a34\" y=\"209.817871\"/>\n     <use style=\"fill:#4c72b0;stroke:#333333;\" x=\"232.756002\" xlink:href=\"#m6384a01a34\" y=\"90.705434\"/>\n     <use style=\"fill:#4c72b0;stroke:#333333;\" x=\"108.951144\" xlink:href=\"#m6384a01a34\" y=\"195.303274\"/>\n     <use style=\"fill:#4c72b0;stroke:#333333;\" x=\"101.769149\" xlink:href=\"#m6384a01a34\" y=\"189.148117\"/>\n     <use style=\"fill:#4c72b0;stroke:#333333;\" x=\"96.379894\" xlink:href=\"#m6384a01a34\" y=\"200.223394\"/>\n     <use style=\"fill:#4c72b0;stroke:#333333;\" x=\"106.03107\" xlink:href=\"#m6384a01a34\" y=\"208.206126\"/>\n     <use style=\"fill:#4c72b0;stroke:#333333;\" x=\"218.441851\" xlink:href=\"#m6384a01a34\" y=\"57.867977\"/>\n     <use style=\"fill:#4c72b0;stroke:#333333;\" x=\"227.615319\" xlink:href=\"#m6384a01a34\" y=\"41.469595\"/>\n     <use style=\"fill:#4c72b0;stroke:#333333;\" x=\"79.001684\" xlink:href=\"#m6384a01a34\" y=\"214.445482\"/>\n     <use style=\"fill:#4c72b0;stroke:#333333;\" x=\"242.780269\" xlink:href=\"#m6384a01a34\" y=\"80.464924\"/>\n    </g>\n   </g>\n   <g id=\"PathCollection_2\">\n    <defs>\n     <path d=\"M 0 3 \nC 0.795609 3 1.55874 2.683901 2.12132 2.12132 \nC 2.683901 1.55874 3 0.795609 3 0 \nC 3 -0.795609 2.683901 -1.55874 2.12132 -2.12132 \nC 1.55874 -2.683901 0.795609 -3 0 -3 \nC -0.795609 -3 -1.55874 -2.683901 -2.12132 -2.12132 \nC -2.683901 -1.55874 -3 -0.795609 -3 0 \nC -3 0.795609 -2.683901 1.55874 -2.12132 2.12132 \nC -1.55874 2.683901 -0.795609 3 0 3 \nz\n\" id=\"m980b5b87d5\" style=\"stroke:#333333;\"/>\n    </defs>\n    <g clip-path=\"url(#p6541fdb6b5)\">\n     <use style=\"fill:#dd8452;stroke:#333333;\" x=\"237.740969\" xlink:href=\"#m980b5b87d5\" y=\"180.913557\"/>\n     <use style=\"fill:#dd8452;stroke:#333333;\" x=\"250.706334\" xlink:href=\"#m980b5b87d5\" y=\"181.183986\"/>\n     <use style=\"fill:#dd8452;stroke:#333333;\" x=\"238.881003\" xlink:href=\"#m980b5b87d5\" y=\"198.932324\"/>\n     <use style=\"fill:#dd8452;stroke:#333333;\" x=\"96.610282\" xlink:href=\"#m980b5b87d5\" y=\"45.392998\"/>\n     <use style=\"fill:#dd8452;stroke:#333333;\" x=\"257.550343\" xlink:href=\"#m980b5b87d5\" y=\"201.599728\"/>\n     <use style=\"fill:#dd8452;stroke:#333333;\" x=\"107.264311\" xlink:href=\"#m980b5b87d5\" y=\"63.553489\"/>\n     <use style=\"fill:#dd8452;stroke:#333333;\" x=\"226.725944\" xlink:href=\"#m980b5b87d5\" y=\"211.350014\"/>\n     <use style=\"fill:#dd8452;stroke:#333333;\" x=\"137.462566\" xlink:href=\"#m980b5b87d5\" y=\"59.599027\"/>\n     <use style=\"fill:#dd8452;stroke:#333333;\" x=\"254.399964\" xlink:href=\"#m980b5b87d5\" y=\"217.196966\"/>\n     <use style=\"fill:#dd8452;stroke:#333333;\" x=\"221.661073\" xlink:href=\"#m980b5b87d5\" y=\"185.557909\"/>\n     <use style=\"fill:#dd8452;stroke:#333333;\" x=\"236.770813\" xlink:href=\"#m980b5b87d5\" y=\"173.017888\"/>\n     <use style=\"fill:#dd8452;stroke:#333333;\" x=\"72.595048\" xlink:href=\"#m980b5b87d5\" y=\"44.566804\"/>\n     <use style=\"fill:#dd8452;stroke:#333333;\" x=\"123.449481\" xlink:href=\"#m980b5b87d5\" y=\"45.533014\"/>\n     <use style=\"fill:#dd8452;stroke:#333333;\" x=\"103.341406\" xlink:href=\"#m980b5b87d5\" y=\"76.495825\"/>\n     <use style=\"fill:#dd8452;stroke:#333333;\" x=\"103.652293\" xlink:href=\"#m980b5b87d5\" y=\"42.091466\"/>\n     <use style=\"fill:#dd8452;stroke:#333333;\" x=\"82.572453\" xlink:href=\"#m980b5b87d5\" y=\"39.030573\"/>\n     <use style=\"fill:#dd8452;stroke:#333333;\" x=\"240.785963\" xlink:href=\"#m980b5b87d5\" y=\"201.757218\"/>\n     <use style=\"fill:#dd8452;stroke:#333333;\" x=\"223.146677\" xlink:href=\"#m980b5b87d5\" y=\"180.766731\"/>\n     <use style=\"fill:#dd8452;stroke:#333333;\" x=\"232.809459\" xlink:href=\"#m980b5b87d5\" y=\"182.832732\"/>\n     <use style=\"fill:#dd8452;stroke:#333333;\" x=\"114.75275\" xlink:href=\"#m980b5b87d5\" y=\"59.25904\"/>\n     <use style=\"fill:#dd8452;stroke:#333333;\" x=\"219.13022\" xlink:href=\"#m980b5b87d5\" y=\"192.147409\"/>\n     <use style=\"fill:#dd8452;stroke:#333333;\" x=\"263.953319\" xlink:href=\"#m980b5b87d5\" y=\"200.542537\"/>\n     <use style=\"fill:#dd8452;stroke:#333333;\" x=\"255.392004\" xlink:href=\"#m980b5b87d5\" y=\"198.107913\"/>\n     <use style=\"fill:#dd8452;stroke:#333333;\" x=\"230.139566\" xlink:href=\"#m980b5b87d5\" y=\"202.11576\"/>\n     <use style=\"fill:#dd8452;stroke:#333333;\" x=\"261.488557\" xlink:href=\"#m980b5b87d5\" y=\"176.456154\"/>\n     <use style=\"fill:#dd8452;stroke:#333333;\" x=\"90.064639\" xlink:href=\"#m980b5b87d5\" y=\"70.175377\"/>\n     <use style=\"fill:#dd8452;stroke:#333333;\" x=\"258.588002\" xlink:href=\"#m980b5b87d5\" y=\"179.390064\"/>\n     <use style=\"fill:#dd8452;stroke:#333333;\" x=\"117.683193\" xlink:href=\"#m980b5b87d5\" y=\"55.123203\"/>\n     <use style=\"fill:#dd8452;stroke:#333333;\" x=\"238.990257\" xlink:href=\"#m980b5b87d5\" y=\"178.669064\"/>\n     <use style=\"fill:#dd8452;stroke:#333333;\" x=\"75.361809\" xlink:href=\"#m980b5b87d5\" y=\"56.973626\"/>\n     <use style=\"fill:#dd8452;stroke:#333333;\" x=\"102.090572\" xlink:href=\"#m980b5b87d5\" y=\"66.120244\"/>\n     <use style=\"fill:#dd8452;stroke:#333333;\" x=\"230.25688\" xlink:href=\"#m980b5b87d5\" y=\"208.672634\"/>\n     <use style=\"fill:#dd8452;stroke:#333333;\" x=\"221.809167\" xlink:href=\"#m980b5b87d5\" y=\"183.133722\"/>\n     <use style=\"fill:#dd8452;stroke:#333333;\" x=\"107.069524\" xlink:href=\"#m980b5b87d5\" y=\"60.661631\"/>\n     <use style=\"fill:#dd8452;stroke:#333333;\" x=\"250.99108\" xlink:href=\"#m980b5b87d5\" y=\"183.85959\"/>\n     <use style=\"fill:#dd8452;stroke:#333333;\" x=\"107.646006\" xlink:href=\"#m980b5b87d5\" y=\"68.534007\"/>\n     <use style=\"fill:#dd8452;stroke:#333333;\" x=\"104.549879\" xlink:href=\"#m980b5b87d5\" y=\"71.284393\"/>\n     <use style=\"fill:#dd8452;stroke:#333333;\" x=\"268.105097\" xlink:href=\"#m980b5b87d5\" y=\"209.357586\"/>\n     <use style=\"fill:#dd8452;stroke:#333333;\" x=\"238.400187\" xlink:href=\"#m980b5b87d5\" y=\"180.074569\"/>\n     <use style=\"fill:#dd8452;stroke:#333333;\" x=\"91.295948\" xlink:href=\"#m980b5b87d5\" y=\"55.826098\"/>\n     <use style=\"fill:#dd8452;stroke:#333333;\" x=\"121.568333\" xlink:href=\"#m980b5b87d5\" y=\"57.881371\"/>\n     <use style=\"fill:#dd8452;stroke:#333333;\" x=\"125.003489\" xlink:href=\"#m980b5b87d5\" y=\"40.282525\"/>\n     <use style=\"fill:#dd8452;stroke:#333333;\" x=\"251.195219\" xlink:href=\"#m980b5b87d5\" y=\"206.328325\"/>\n     <use style=\"fill:#dd8452;stroke:#333333;\" x=\"91.801361\" xlink:href=\"#m980b5b87d5\" y=\"59.985039\"/>\n     <use style=\"fill:#dd8452;stroke:#333333;\" x=\"235.974935\" xlink:href=\"#m980b5b87d5\" y=\"185.254639\"/>\n     <use style=\"fill:#dd8452;stroke:#333333;\" x=\"106.729752\" xlink:href=\"#m980b5b87d5\" y=\"73.50443\"/>\n     <use style=\"fill:#dd8452;stroke:#333333;\" x=\"114.638428\" xlink:href=\"#m980b5b87d5\" y=\"50.128195\"/>\n     <use style=\"fill:#dd8452;stroke:#333333;\" x=\"113.545439\" xlink:href=\"#m980b5b87d5\" y=\"53.57626\"/>\n     <use style=\"fill:#dd8452;stroke:#333333;\" x=\"227.164001\" xlink:href=\"#m980b5b87d5\" y=\"186.154142\"/>\n     <use style=\"fill:#dd8452;stroke:#333333;\" x=\"91.795046\" xlink:href=\"#m980b5b87d5\" y=\"77.508109\"/>\n     <use style=\"fill:#dd8452;stroke:#333333;\" x=\"112.355405\" xlink:href=\"#m980b5b87d5\" y=\"48.161599\"/>\n     <use style=\"fill:#dd8452;stroke:#333333;\" x=\"218.881785\" xlink:href=\"#m980b5b87d5\" y=\"182.204423\"/>\n     <use style=\"fill:#dd8452;stroke:#333333;\" x=\"245.64443\" xlink:href=\"#m980b5b87d5\" y=\"210.592034\"/>\n     <use style=\"fill:#dd8452;stroke:#333333;\" x=\"109.784851\" xlink:href=\"#m980b5b87d5\" y=\"48.671279\"/>\n     <use style=\"fill:#dd8452;stroke:#333333;\" x=\"116.091024\" xlink:href=\"#m980b5b87d5\" y=\"67.791241\"/>\n     <use style=\"fill:#dd8452;stroke:#333333;\" x=\"225.780417\" xlink:href=\"#m980b5b87d5\" y=\"195.110735\"/>\n     <use style=\"fill:#dd8452;stroke:#333333;\" x=\"217.276378\" xlink:href=\"#m980b5b87d5\" y=\"197.807546\"/>\n     <use style=\"fill:#dd8452;stroke:#333333;\" x=\"113.27314\" xlink:href=\"#m980b5b87d5\" y=\"62.370039\"/>\n     <use style=\"fill:#dd8452;stroke:#333333;\" x=\"69.170298\" xlink:href=\"#m980b5b87d5\" y=\"69.539331\"/>\n     <use style=\"fill:#dd8452;stroke:#333333;\" x=\"98.698359\" xlink:href=\"#m980b5b87d5\" y=\"77.469177\"/>\n     <use style=\"fill:#dd8452;stroke:#333333;\" x=\"116.347165\" xlink:href=\"#m980b5b87d5\" y=\"52.116365\"/>\n     <use style=\"fill:#dd8452;stroke:#333333;\" x=\"94.391267\" xlink:href=\"#m980b5b87d5\" y=\"63.223243\"/>\n     <use style=\"fill:#dd8452;stroke:#333333;\" x=\"100.898505\" xlink:href=\"#m980b5b87d5\" y=\"55.768785\"/>\n     <use style=\"fill:#dd8452;stroke:#333333;\" x=\"116.977273\" xlink:href=\"#m980b5b87d5\" y=\"68.261083\"/>\n     <use style=\"fill:#dd8452;stroke:#333333;\" x=\"264.182211\" xlink:href=\"#m980b5b87d5\" y=\"202.317721\"/>\n     <use style=\"fill:#dd8452;stroke:#333333;\" x=\"86.626022\" xlink:href=\"#m980b5b87d5\" y=\"39.847979\"/>\n     <use style=\"fill:#dd8452;stroke:#333333;\" x=\"264.912405\" xlink:href=\"#m980b5b87d5\" y=\"185.012766\"/>\n     <use style=\"fill:#dd8452;stroke:#333333;\" x=\"251.653068\" xlink:href=\"#m980b5b87d5\" y=\"171.865302\"/>\n     <use style=\"fill:#dd8452;stroke:#333333;\" x=\"221.338296\" xlink:href=\"#m980b5b87d5\" y=\"211.299351\"/>\n     <use style=\"fill:#dd8452;stroke:#333333;\" x=\"225.251741\" xlink:href=\"#m980b5b87d5\" y=\"227.253664\"/>\n     <use style=\"fill:#dd8452;stroke:#333333;\" x=\"105.110938\" xlink:href=\"#m980b5b87d5\" y=\"41.347367\"/>\n     <use style=\"fill:#dd8452;stroke:#333333;\" x=\"227.955126\" xlink:href=\"#m980b5b87d5\" y=\"178.959826\"/>\n     <use style=\"fill:#dd8452;stroke:#333333;\" x=\"214.647143\" xlink:href=\"#m980b5b87d5\" y=\"165.02484\"/>\n     <use style=\"fill:#dd8452;stroke:#333333;\" x=\"91.350295\" xlink:href=\"#m980b5b87d5\" y=\"47.120304\"/>\n     <use style=\"fill:#dd8452;stroke:#333333;\" x=\"115.184403\" xlink:href=\"#m980b5b87d5\" y=\"59.847104\"/>\n     <use style=\"fill:#dd8452;stroke:#333333;\" x=\"253.888856\" xlink:href=\"#m980b5b87d5\" y=\"184.293941\"/>\n     <use style=\"fill:#dd8452;stroke:#333333;\" x=\"98.888029\" xlink:href=\"#m980b5b87d5\" y=\"51.399993\"/>\n     <use style=\"fill:#dd8452;stroke:#333333;\" x=\"110.839939\" xlink:href=\"#m980b5b87d5\" y=\"61.578541\"/>\n     <use style=\"fill:#dd8452;stroke:#333333;\" x=\"109.239359\" xlink:href=\"#m980b5b87d5\" y=\"64.816787\"/>\n     <use style=\"fill:#dd8452;stroke:#333333;\" x=\"237.390927\" xlink:href=\"#m980b5b87d5\" y=\"177.171327\"/>\n     <use style=\"fill:#dd8452;stroke:#333333;\" x=\"245.348705\" xlink:href=\"#m980b5b87d5\" y=\"167.950176\"/>\n     <use style=\"fill:#dd8452;stroke:#333333;\" x=\"254.203911\" xlink:href=\"#m980b5b87d5\" y=\"185.179964\"/>\n     <use style=\"fill:#dd8452;stroke:#333333;\" x=\"141.672506\" xlink:href=\"#m980b5b87d5\" y=\"59.304711\"/>\n     <use style=\"fill:#dd8452;stroke:#333333;\" x=\"220.590559\" xlink:href=\"#m980b5b87d5\" y=\"213.578161\"/>\n     <use style=\"fill:#dd8452;stroke:#333333;\" x=\"272.079389\" xlink:href=\"#m980b5b87d5\" y=\"212.626448\"/>\n     <use style=\"fill:#dd8452;stroke:#333333;\" x=\"233.703348\" xlink:href=\"#m980b5b87d5\" y=\"209.593202\"/>\n     <use style=\"fill:#dd8452;stroke:#333333;\" x=\"95.318892\" xlink:href=\"#m980b5b87d5\" y=\"69.802283\"/>\n     <use style=\"fill:#dd8452;stroke:#333333;\" x=\"93.064547\" xlink:href=\"#m980b5b87d5\" y=\"59.30147\"/>\n     <use style=\"fill:#dd8452;stroke:#333333;\" x=\"256.572474\" xlink:href=\"#m980b5b87d5\" y=\"212.467168\"/>\n     <use style=\"fill:#dd8452;stroke:#333333;\" x=\"93.50362\" xlink:href=\"#m980b5b87d5\" y=\"66.734504\"/>\n     <use style=\"fill:#dd8452;stroke:#333333;\" x=\"79.412994\" xlink:href=\"#m980b5b87d5\" y=\"61.78785\"/>\n     <use style=\"fill:#dd8452;stroke:#333333;\" x=\"123.191141\" xlink:href=\"#m980b5b87d5\" y=\"48.616483\"/>\n     <use style=\"fill:#dd8452;stroke:#333333;\" x=\"96.488538\" xlink:href=\"#m980b5b87d5\" y=\"51.591563\"/>\n     <use style=\"fill:#dd8452;stroke:#333333;\" x=\"264.233882\" xlink:href=\"#m980b5b87d5\" y=\"209.982902\"/>\n     <use style=\"fill:#dd8452;stroke:#333333;\" x=\"216.198134\" xlink:href=\"#m980b5b87d5\" y=\"191.955712\"/>\n     <use style=\"fill:#dd8452;stroke:#333333;\" x=\"105.002662\" xlink:href=\"#m980b5b87d5\" y=\"44.566278\"/>\n     <use style=\"fill:#dd8452;stroke:#333333;\" x=\"261.482984\" xlink:href=\"#m980b5b87d5\" y=\"207.56031\"/>\n    </g>\n   </g>\n   <g id=\"patch_3\">\n    <path d=\"M 59.024844 239.758125 \nL 59.024844 22.318125 \n\" style=\"fill:none;stroke:#ffffff;stroke-linecap:square;stroke-linejoin:miter;stroke-width:1.25;\"/>\n   </g>\n   <g id=\"patch_4\">\n    <path d=\"M 282.224844 239.758125 \nL 282.224844 22.318125 \n\" style=\"fill:none;stroke:#ffffff;stroke-linecap:square;stroke-linejoin:miter;stroke-width:1.25;\"/>\n   </g>\n   <g id=\"patch_5\">\n    <path d=\"M 59.024844 239.758125 \nL 282.224844 239.758125 \n\" style=\"fill:none;stroke:#ffffff;stroke-linecap:square;stroke-linejoin:miter;stroke-width:1.25;\"/>\n   </g>\n   <g id=\"patch_6\">\n    <path d=\"M 59.024844 22.318125 \nL 282.224844 22.318125 \n\" style=\"fill:none;stroke:#ffffff;stroke-linecap:square;stroke-linejoin:miter;stroke-width:1.25;\"/>\n   </g>\n   <g id=\"text_14\">\n    <!-- Dataset samples -->\n    <defs>\n     <path d=\"M 19.671875 64.796875 \nL 19.671875 8.109375 \nL 31.59375 8.109375 \nQ 46.6875 8.109375 53.6875 14.9375 \nQ 60.6875 21.78125 60.6875 36.53125 \nQ 60.6875 51.171875 53.6875 57.984375 \nQ 46.6875 64.796875 31.59375 64.796875 \nz\nM 9.8125 72.90625 \nL 30.078125 72.90625 \nQ 51.265625 72.90625 61.171875 64.09375 \nQ 71.09375 55.28125 71.09375 36.53125 \nQ 71.09375 17.671875 61.125 8.828125 \nQ 51.171875 0 30.078125 0 \nL 9.8125 0 \nz\n\" id=\"DejaVuSans-68\"/>\n     <path d=\"M 34.28125 27.484375 \nQ 23.390625 27.484375 19.1875 25 \nQ 14.984375 22.515625 14.984375 16.5 \nQ 14.984375 11.71875 18.140625 8.90625 \nQ 21.296875 6.109375 26.703125 6.109375 \nQ 34.1875 6.109375 38.703125 11.40625 \nQ 43.21875 16.703125 43.21875 25.484375 \nL 43.21875 27.484375 \nz\nM 52.203125 31.203125 \nL 52.203125 0 \nL 43.21875 0 \nL 43.21875 8.296875 \nQ 40.140625 3.328125 35.546875 0.953125 \nQ 30.953125 -1.421875 24.3125 -1.421875 \nQ 15.921875 -1.421875 10.953125 3.296875 \nQ 6 8.015625 6 15.921875 \nQ 6 25.140625 12.171875 29.828125 \nQ 18.359375 34.515625 30.609375 34.515625 \nL 43.21875 34.515625 \nL 43.21875 35.40625 \nQ 43.21875 41.609375 39.140625 45 \nQ 35.0625 48.390625 27.6875 48.390625 \nQ 23 48.390625 18.546875 47.265625 \nQ 14.109375 46.140625 10.015625 43.890625 \nL 10.015625 52.203125 \nQ 14.9375 54.109375 19.578125 55.046875 \nQ 24.21875 56 28.609375 56 \nQ 40.484375 56 46.34375 49.84375 \nQ 52.203125 43.703125 52.203125 31.203125 \nz\n\" id=\"DejaVuSans-97\"/>\n     <path d=\"M 18.3125 70.21875 \nL 18.3125 54.6875 \nL 36.8125 54.6875 \nL 36.8125 47.703125 \nL 18.3125 47.703125 \nL 18.3125 18.015625 \nQ 18.3125 11.328125 20.140625 9.421875 \nQ 21.96875 7.515625 27.59375 7.515625 \nL 36.8125 7.515625 \nL 36.8125 0 \nL 27.59375 0 \nQ 17.1875 0 13.234375 3.875 \nQ 9.28125 7.765625 9.28125 18.015625 \nL 9.28125 47.703125 \nL 2.6875 47.703125 \nL 2.6875 54.6875 \nL 9.28125 54.6875 \nL 9.28125 70.21875 \nz\n\" id=\"DejaVuSans-116\"/>\n     <path d=\"M 44.28125 53.078125 \nL 44.28125 44.578125 \nQ 40.484375 46.53125 36.375 47.5 \nQ 32.28125 48.484375 27.875 48.484375 \nQ 21.1875 48.484375 17.84375 46.4375 \nQ 14.5 44.390625 14.5 40.28125 \nQ 14.5 37.15625 16.890625 35.375 \nQ 19.28125 33.59375 26.515625 31.984375 \nL 29.59375 31.296875 \nQ 39.15625 29.25 43.1875 25.515625 \nQ 47.21875 21.78125 47.21875 15.09375 \nQ 47.21875 7.46875 41.1875 3.015625 \nQ 35.15625 -1.421875 24.609375 -1.421875 \nQ 20.21875 -1.421875 15.453125 -0.5625 \nQ 10.6875 0.296875 5.421875 2 \nL 5.421875 11.28125 \nQ 10.40625 8.6875 15.234375 7.390625 \nQ 20.0625 6.109375 24.8125 6.109375 \nQ 31.15625 6.109375 34.5625 8.28125 \nQ 37.984375 10.453125 37.984375 14.40625 \nQ 37.984375 18.0625 35.515625 20.015625 \nQ 33.0625 21.96875 24.703125 23.78125 \nL 21.578125 24.515625 \nQ 13.234375 26.265625 9.515625 29.90625 \nQ 5.8125 33.546875 5.8125 39.890625 \nQ 5.8125 47.609375 11.28125 51.796875 \nQ 16.75 56 26.8125 56 \nQ 31.78125 56 36.171875 55.265625 \nQ 40.578125 54.546875 44.28125 53.078125 \nz\n\" id=\"DejaVuSans-115\"/>\n     <path d=\"M 56.203125 29.59375 \nL 56.203125 25.203125 \nL 14.890625 25.203125 \nQ 15.484375 15.921875 20.484375 11.0625 \nQ 25.484375 6.203125 34.421875 6.203125 \nQ 39.59375 6.203125 44.453125 7.46875 \nQ 49.3125 8.734375 54.109375 11.28125 \nL 54.109375 2.78125 \nQ 49.265625 0.734375 44.1875 -0.34375 \nQ 39.109375 -1.421875 33.890625 -1.421875 \nQ 20.796875 -1.421875 13.15625 6.1875 \nQ 5.515625 13.8125 5.515625 26.8125 \nQ 5.515625 40.234375 12.765625 48.109375 \nQ 20.015625 56 32.328125 56 \nQ 43.359375 56 49.78125 48.890625 \nQ 56.203125 41.796875 56.203125 29.59375 \nz\nM 47.21875 32.234375 \nQ 47.125 39.59375 43.09375 43.984375 \nQ 39.0625 48.390625 32.421875 48.390625 \nQ 24.90625 48.390625 20.390625 44.140625 \nQ 15.875 39.890625 15.1875 32.171875 \nz\n\" id=\"DejaVuSans-101\"/>\n     <path id=\"DejaVuSans-32\"/>\n     <path d=\"M 52 44.1875 \nQ 55.375 50.25 60.0625 53.125 \nQ 64.75 56 71.09375 56 \nQ 79.640625 56 84.28125 50.015625 \nQ 88.921875 44.046875 88.921875 33.015625 \nL 88.921875 0 \nL 79.890625 0 \nL 79.890625 32.71875 \nQ 79.890625 40.578125 77.09375 44.375 \nQ 74.3125 48.1875 68.609375 48.1875 \nQ 61.625 48.1875 57.5625 43.546875 \nQ 53.515625 38.921875 53.515625 30.90625 \nL 53.515625 0 \nL 44.484375 0 \nL 44.484375 32.71875 \nQ 44.484375 40.625 41.703125 44.40625 \nQ 38.921875 48.1875 33.109375 48.1875 \nQ 26.21875 48.1875 22.15625 43.53125 \nQ 18.109375 38.875 18.109375 30.90625 \nL 18.109375 0 \nL 9.078125 0 \nL 9.078125 54.6875 \nL 18.109375 54.6875 \nL 18.109375 46.1875 \nQ 21.1875 51.21875 25.484375 53.609375 \nQ 29.78125 56 35.6875 56 \nQ 41.65625 56 45.828125 52.96875 \nQ 50 49.953125 52 44.1875 \nz\n\" id=\"DejaVuSans-109\"/>\n     <path d=\"M 18.109375 8.203125 \nL 18.109375 -20.796875 \nL 9.078125 -20.796875 \nL 9.078125 54.6875 \nL 18.109375 54.6875 \nL 18.109375 46.390625 \nQ 20.953125 51.265625 25.265625 53.625 \nQ 29.59375 56 35.59375 56 \nQ 45.5625 56 51.78125 48.09375 \nQ 58.015625 40.1875 58.015625 27.296875 \nQ 58.015625 14.40625 51.78125 6.484375 \nQ 45.5625 -1.421875 35.59375 -1.421875 \nQ 29.59375 -1.421875 25.265625 0.953125 \nQ 20.953125 3.328125 18.109375 8.203125 \nz\nM 48.6875 27.296875 \nQ 48.6875 37.203125 44.609375 42.84375 \nQ 40.53125 48.484375 33.40625 48.484375 \nQ 26.265625 48.484375 22.1875 42.84375 \nQ 18.109375 37.203125 18.109375 27.296875 \nQ 18.109375 17.390625 22.1875 11.75 \nQ 26.265625 6.109375 33.40625 6.109375 \nQ 40.53125 6.109375 44.609375 11.75 \nQ 48.6875 17.390625 48.6875 27.296875 \nz\n\" id=\"DejaVuSans-112\"/>\n     <path d=\"M 9.421875 75.984375 \nL 18.40625 75.984375 \nL 18.40625 0 \nL 9.421875 0 \nz\n\" id=\"DejaVuSans-108\"/>\n    </defs>\n    <g style=\"fill:#262626;\" transform=\"translate(120.282031 16.318125)scale(0.12 -0.12)\">\n     <use xlink:href=\"#DejaVuSans-68\"/>\n     <use x=\"77.001953\" xlink:href=\"#DejaVuSans-97\"/>\n     <use x=\"138.28125\" xlink:href=\"#DejaVuSans-116\"/>\n     <use x=\"177.490234\" xlink:href=\"#DejaVuSans-97\"/>\n     <use x=\"238.769531\" xlink:href=\"#DejaVuSans-115\"/>\n     <use x=\"290.869141\" xlink:href=\"#DejaVuSans-101\"/>\n     <use x=\"352.392578\" xlink:href=\"#DejaVuSans-116\"/>\n     <use x=\"391.601562\" xlink:href=\"#DejaVuSans-32\"/>\n     <use x=\"423.388672\" xlink:href=\"#DejaVuSans-115\"/>\n     <use x=\"475.488281\" xlink:href=\"#DejaVuSans-97\"/>\n     <use x=\"536.767578\" xlink:href=\"#DejaVuSans-109\"/>\n     <use x=\"634.179688\" xlink:href=\"#DejaVuSans-112\"/>\n     <use x=\"697.65625\" xlink:href=\"#DejaVuSans-108\"/>\n     <use x=\"725.439453\" xlink:href=\"#DejaVuSans-101\"/>\n     <use x=\"786.962891\" xlink:href=\"#DejaVuSans-115\"/>\n    </g>\n   </g>\n   <g id=\"legend_1\">\n    <g id=\"patch_7\">\n     <path d=\"M 199.891562 148.834063 \nL 274.524844 148.834063 \nQ 276.724844 148.834063 276.724844 146.634063 \nL 276.724844 115.442187 \nQ 276.724844 113.242188 274.524844 113.242188 \nL 199.891562 113.242188 \nQ 197.691562 113.242188 197.691562 115.442187 \nL 197.691562 146.634063 \nQ 197.691562 148.834063 199.891562 148.834063 \nz\n\" style=\"fill:#eaeaf2;opacity:0.8;stroke:#cccccc;stroke-linejoin:miter;\"/>\n    </g>\n    <g id=\"PathCollection_3\">\n     <g>\n      <use style=\"fill:#4c72b0;stroke:#333333;\" x=\"213.091562\" xlink:href=\"#m6384a01a34\" y=\"123.112969\"/>\n     </g>\n    </g>\n    <g id=\"text_15\">\n     <!-- Class 0 -->\n     <defs>\n      <path d=\"M 64.40625 67.28125 \nL 64.40625 56.890625 \nQ 59.421875 61.53125 53.78125 63.8125 \nQ 48.140625 66.109375 41.796875 66.109375 \nQ 29.296875 66.109375 22.65625 58.46875 \nQ 16.015625 50.828125 16.015625 36.375 \nQ 16.015625 21.96875 22.65625 14.328125 \nQ 29.296875 6.6875 41.796875 6.6875 \nQ 48.140625 6.6875 53.78125 8.984375 \nQ 59.421875 11.28125 64.40625 15.921875 \nL 64.40625 5.609375 \nQ 59.234375 2.09375 53.4375 0.328125 \nQ 47.65625 -1.421875 41.21875 -1.421875 \nQ 24.65625 -1.421875 15.125 8.703125 \nQ 5.609375 18.84375 5.609375 36.375 \nQ 5.609375 53.953125 15.125 64.078125 \nQ 24.65625 74.21875 41.21875 74.21875 \nQ 47.75 74.21875 53.53125 72.484375 \nQ 59.328125 70.75 64.40625 67.28125 \nz\n\" id=\"DejaVuSans-67\"/>\n     </defs>\n     <g style=\"fill:#262626;\" transform=\"translate(232.891562 126.000469)scale(0.11 -0.11)\">\n      <use xlink:href=\"#DejaVuSans-67\"/>\n      <use x=\"69.824219\" xlink:href=\"#DejaVuSans-108\"/>\n      <use x=\"97.607422\" xlink:href=\"#DejaVuSans-97\"/>\n      <use x=\"158.886719\" xlink:href=\"#DejaVuSans-115\"/>\n      <use x=\"210.986328\" xlink:href=\"#DejaVuSans-115\"/>\n      <use x=\"263.085938\" xlink:href=\"#DejaVuSans-32\"/>\n      <use x=\"294.873047\" xlink:href=\"#DejaVuSans-48\"/>\n     </g>\n    </g>\n    <g id=\"PathCollection_4\">\n     <g>\n      <use style=\"fill:#dd8452;stroke:#333333;\" x=\"213.091562\" xlink:href=\"#m980b5b87d5\" y=\"139.258906\"/>\n     </g>\n    </g>\n    <g id=\"text_16\">\n     <!-- Class 1 -->\n     <g style=\"fill:#262626;\" transform=\"translate(232.891562 142.146406)scale(0.11 -0.11)\">\n      <use xlink:href=\"#DejaVuSans-67\"/>\n      <use x=\"69.824219\" xlink:href=\"#DejaVuSans-108\"/>\n      <use x=\"97.607422\" xlink:href=\"#DejaVuSans-97\"/>\n      <use x=\"158.886719\" xlink:href=\"#DejaVuSans-115\"/>\n      <use x=\"210.986328\" xlink:href=\"#DejaVuSans-115\"/>\n      <use x=\"263.085938\" xlink:href=\"#DejaVuSans-32\"/>\n      <use x=\"294.873047\" xlink:href=\"#DejaVuSans-49\"/>\n     </g>\n    </g>\n   </g>\n  </g>\n </g>\n <defs>\n  <clipPath id=\"p6541fdb6b5\">\n   <rect height=\"217.44\" width=\"223.2\" x=\"59.024844\" y=\"22.318125\"/>\n  </clipPath>\n </defs>\n</svg>\n"
          },
          "metadata": {
            "needs_background": "light"
          }
        }
      ]
    },
    {
      "cell_type": "code",
      "source": [
        "data_loader = data.DataLoader(dataset, batch_size=8, shuffle=True)"
      ],
      "metadata": {
        "id": "cvP7hLYfCyLR"
      },
      "execution_count": 49,
      "outputs": []
    },
    {
      "cell_type": "code",
      "execution_count": 51,
      "metadata": {
        "id": "Fht49vPl-tcJ",
        "outputId": "65d4db83-ced3-463f-ee2c-d4e015e38b27",
        "colab": {
          "base_uri": "https://localhost:8080/"
        }
      },
      "outputs": [
        {
          "output_type": "stream",
          "name": "stdout",
          "text": [
            "Data inputs torch.Size([8, 2]) \n",
            " tensor([[ 0.1257,  1.0030],\n",
            "        [ 0.8291,  0.0303],\n",
            "        [ 1.1658,  0.9603],\n",
            "        [ 1.1344,  0.1440],\n",
            "        [-0.1895,  0.0491],\n",
            "        [-0.0636,  0.9167],\n",
            "        [ 1.0819,  0.0808],\n",
            "        [ 0.1236,  0.1485]])\n",
            "Data labels torch.Size([8]) \n",
            " tensor([1, 1, 0, 1, 0, 1, 1, 0])\n"
          ]
        }
      ],
      "source": [
        "# next(iter(...)) catches the first batch of the data loader\n",
        "# If shuffle is True, this will return a different batch every time we run this cell\n",
        "# For iterating over the whole dataset, we can simple use \"for batch in data_loader: ...\"\n",
        "data_inputs, data_labels = next(iter(data_loader))\n",
        "\n",
        "# The shape of the outputs are [batch_size, d_1,...,d_N] where d_1,...,d_N are the \n",
        "# dimensions of the data point returned from the dataset class\n",
        "print(\"Data inputs\", data_inputs.shape, \"\\n\", data_inputs)\n",
        "print(\"Data labels\", data_labels.shape, \"\\n\", data_labels)"
      ]
    },
    {
      "cell_type": "code",
      "source": [
        "loss_module = nn.BCEWithLogitsLoss()"
      ],
      "metadata": {
        "id": "TnJtsa3bC4el"
      },
      "execution_count": 52,
      "outputs": []
    },
    {
      "cell_type": "code",
      "source": [
        "# Input to the optimizer are the parameters of the model: model.parameters()\n",
        "optimizer = torch.optim.SGD(model.parameters(), lr=0.1)"
      ],
      "metadata": {
        "id": "QZfDfydeDCTT"
      },
      "execution_count": 53,
      "outputs": []
    },
    {
      "cell_type": "code",
      "source": [
        "# Push model to device. Has to be only done once\n",
        "model.to(device)"
      ],
      "metadata": {
        "colab": {
          "base_uri": "https://localhost:8080/"
        },
        "id": "ONNE_90sDIk3",
        "outputId": "e81cb4bd-753b-49d3-af73-2c4b7f68e1e9"
      },
      "execution_count": 54,
      "outputs": [
        {
          "output_type": "execute_result",
          "data": {
            "text/plain": [
              "SimpleClassifier(\n",
              "  (linear1): Linear(in_features=2, out_features=4, bias=True)\n",
              "  (act_fn): Tanh()\n",
              "  (linear2): Linear(in_features=4, out_features=1, bias=True)\n",
              ")"
            ]
          },
          "metadata": {},
          "execution_count": 54
        }
      ]
    },
    {
      "cell_type": "code",
      "source": [
        ""
      ],
      "metadata": {
        "id": "xCL7U1U9DN89"
      },
      "execution_count": null,
      "outputs": []
    },
    {
      "cell_type": "code",
      "execution_count": 55,
      "metadata": {
        "id": "0ytjxW5V-tcL"
      },
      "outputs": [],
      "source": [
        "def train_model(model, optimizer, data_loader, loss_module, num_epochs=100):\n",
        "    # Set model to train mode\n",
        "    model.train() \n",
        "    \n",
        "    # Training loop\n",
        "    for epoch in tqdm(range(num_epochs)):\n",
        "        for data_inputs, data_labels in data_loader:\n",
        "            \n",
        "            ## Step 1: Move input data to device (only strictly necessary if we use GPU)\n",
        "            data_inputs = data_inputs.to(device)\n",
        "            data_labels = data_labels.to(device)\n",
        "            \n",
        "            ## Step 2: Run the model on the input data\n",
        "            preds = model(data_inputs)\n",
        "            preds = preds.squeeze(dim=1) # Output is [Batch size, 1], but we want [Batch size]\n",
        "            \n",
        "            ## Step 3: Calculate the loss\n",
        "            loss = loss_module(preds, data_labels.float())\n",
        "            \n",
        "            ## Step 4: Perform backpropagation\n",
        "            # Before calculating the gradients, we need to ensure that they are all zero. \n",
        "            # The gradients would not be overwritten, but actually added to the existing ones.\n",
        "            optimizer.zero_grad() \n",
        "            # Perform backpropagation\n",
        "            loss.backward()\n",
        "            \n",
        "            ## Step 5: Update the parameters\n",
        "            optimizer.step()"
      ]
    },
    {
      "cell_type": "code",
      "source": [
        "state_dict = model.state_dict()\n",
        "print(state_dict)"
      ],
      "metadata": {
        "colab": {
          "base_uri": "https://localhost:8080/"
        },
        "id": "SxtrXiqXDQ_e",
        "outputId": "11b3abb4-462b-47db-aebf-5a88fdbab634"
      },
      "execution_count": 56,
      "outputs": [
        {
          "output_type": "stream",
          "name": "stdout",
          "text": [
            "OrderedDict([('linear1.weight', tensor([[-0.3851, -0.1043],\n",
            "        [-0.0225, -0.5951],\n",
            "        [-0.5302, -0.0411],\n",
            "        [-0.1559, -0.1731]], device='cuda:0')), ('linear1.bias', tensor([-0.1501, -0.6921,  0.3138, -0.0009], device='cuda:0')), ('linear2.weight', tensor([[-0.3575,  0.0298,  0.4821, -0.4590]], device='cuda:0')), ('linear2.bias', tensor([-0.2364], device='cuda:0'))])\n"
          ]
        }
      ]
    },
    {
      "cell_type": "code",
      "source": [
        "# torch.save(object, filename). For the filename, any extension can be used\n",
        "torch.save(state_dict, \"our_model.tar\")"
      ],
      "metadata": {
        "id": "lJ3iVsOJDUaY"
      },
      "execution_count": 57,
      "outputs": []
    },
    {
      "cell_type": "code",
      "source": [
        "# Load state dict from the disk (make sure it is the same name as above)\n",
        "state_dict = torch.load(\"our_model.tar\")"
      ],
      "metadata": {
        "id": "TUfytMQwDWbR"
      },
      "execution_count": 58,
      "outputs": []
    },
    {
      "cell_type": "code",
      "source": [
        "# Create a new model and load the state\n",
        "new_model = SimpleClassifier(num_inputs=2, num_hidden=4, num_outputs=1)\n",
        "new_model.load_state_dict(state_dict)"
      ],
      "metadata": {
        "colab": {
          "base_uri": "https://localhost:8080/"
        },
        "id": "BDT7JsPEDYPy",
        "outputId": "159d1c37-d543-4a81-d432-79a13fc330a4"
      },
      "execution_count": 59,
      "outputs": [
        {
          "output_type": "execute_result",
          "data": {
            "text/plain": [
              "<All keys matched successfully>"
            ]
          },
          "metadata": {},
          "execution_count": 59
        }
      ]
    },
    {
      "cell_type": "code",
      "source": [
        "# Verify that the parameters are the same\n",
        "print(\"Original model\\n\", model.state_dict())\n",
        "print(\"\\nLoaded model\\n\", new_model.state_dict())"
      ],
      "metadata": {
        "colab": {
          "base_uri": "https://localhost:8080/"
        },
        "id": "8Nz_tnRODahu",
        "outputId": "92e11931-40a6-4e27-8e58-1a4022a38545"
      },
      "execution_count": 60,
      "outputs": [
        {
          "output_type": "stream",
          "name": "stdout",
          "text": [
            "Original model\n",
            " OrderedDict([('linear1.weight', tensor([[-0.3851, -0.1043],\n",
            "        [-0.0225, -0.5951],\n",
            "        [-0.5302, -0.0411],\n",
            "        [-0.1559, -0.1731]], device='cuda:0')), ('linear1.bias', tensor([-0.1501, -0.6921,  0.3138, -0.0009], device='cuda:0')), ('linear2.weight', tensor([[-0.3575,  0.0298,  0.4821, -0.4590]], device='cuda:0')), ('linear2.bias', tensor([-0.2364], device='cuda:0'))])\n",
            "\n",
            "Loaded model\n",
            " OrderedDict([('linear1.weight', tensor([[-0.3851, -0.1043],\n",
            "        [-0.0225, -0.5951],\n",
            "        [-0.5302, -0.0411],\n",
            "        [-0.1559, -0.1731]])), ('linear1.bias', tensor([-0.1501, -0.6921,  0.3138, -0.0009])), ('linear2.weight', tensor([[-0.3575,  0.0298,  0.4821, -0.4590]])), ('linear2.bias', tensor([-0.2364]))])\n"
          ]
        }
      ]
    },
    {
      "cell_type": "code",
      "source": [
        "test_dataset = XORDataset(size=500)\n",
        "# drop_last -> Don't drop the last batch although it is smaller than 128\n",
        "test_data_loader = data.DataLoader(test_dataset, batch_size=128, shuffle=False, drop_last=False) "
      ],
      "metadata": {
        "id": "L8aOkpNMDcYu"
      },
      "execution_count": 61,
      "outputs": []
    },
    {
      "cell_type": "code",
      "source": [
        ""
      ],
      "metadata": {
        "id": "QtxzpMkHDgsP"
      },
      "execution_count": null,
      "outputs": []
    },
    {
      "cell_type": "code",
      "execution_count": 62,
      "metadata": {
        "id": "4xlVkFGu-tcP"
      },
      "outputs": [],
      "source": [
        "def eval_model(model, data_loader):\n",
        "    model.eval() # Set model to eval mode\n",
        "    true_preds, num_preds = 0., 0.\n",
        "    \n",
        "    with torch.no_grad(): # Deactivate gradients for the following code\n",
        "        for data_inputs, data_labels in data_loader:\n",
        "            \n",
        "            # Determine prediction of model on dev set\n",
        "            data_inputs, data_labels = data_inputs.to(device), data_labels.to(device)\n",
        "            preds = model(data_inputs)\n",
        "            preds = preds.squeeze(dim=1)\n",
        "            preds = torch.sigmoid(preds) # Sigmoid to map predictions between 0 and 1\n",
        "            pred_labels = (preds >= 0.5).long() # Binarize predictions to 0 and 1\n",
        "            \n",
        "            # Keep records of predictions for the accuracy metric (true_preds=TP+TN, num_preds=TP+TN+FP+FN)\n",
        "            true_preds += (pred_labels == data_labels).sum()\n",
        "            num_preds += data_labels.shape[0]\n",
        "            \n",
        "    acc = true_preds / num_preds\n",
        "    print(f\"Accuracy of the model: {100.0*acc:4.2f}%\")"
      ]
    },
    {
      "cell_type": "code",
      "source": [
        ""
      ],
      "metadata": {
        "id": "QRfgJoOGDjal"
      },
      "execution_count": null,
      "outputs": []
    },
    {
      "cell_type": "code",
      "execution_count": 63,
      "metadata": {
        "id": "OUFuMfLY-tcQ",
        "outputId": "305260e3-fce8-4293-869a-733aee3a81d0",
        "colab": {
          "base_uri": "https://localhost:8080/",
          "height": 453
        }
      },
      "outputs": [
        {
          "output_type": "stream",
          "name": "stderr",
          "text": [
            "/usr/local/lib/python3.7/dist-packages/torch/functional.py:445: UserWarning: torch.meshgrid: in an upcoming release, it will be required to pass the indexing argument. (Triggered internally at  ../aten/src/ATen/native/TensorShape.cpp:2157.)\n",
            "  return _VF.meshgrid(tensors, **kwargs)  # type: ignore[attr-defined]\n"
          ]
        },
        {
          "output_type": "display_data",
          "data": {
            "application/pdf": "[encoded data removed]",
            "text/plain": [
              "<Figure size 2000x2000 with 1 Axes>"
            ],
            "image/svg+xml": "<?xml version=\"1.0\" encoding=\"utf-8\" standalone=\"no\"?>\n<!DOCTYPE svg PUBLIC \"-//W3C//DTD SVG 1.1//EN\"\n  \"http://www.w3.org/Graphics/SVG/1.1/DTD/svg11.dtd\">\n<!-- Created with matplotlib (https://matplotlib.org/) -->\n<svg height=\"282.717813pt\" version=\"1.1\" viewBox=\"0 0 299.410312 282.717813\" width=\"299.410312pt\" xmlns=\"http://www.w3.org/2000/svg\" xmlns:xlink=\"http://www.w3.org/1999/xlink\">\n <defs>\n  <style type=\"text/css\">\n*{stroke-linecap:butt;stroke-linejoin:round;}\n  </style>\n </defs>\n <g id=\"figure_1\">\n  <g id=\"patch_1\">\n   <path d=\"M 0 282.717813 \nL 299.410312 282.717813 \nL 299.410312 0 \nL 0 0 \nz\n\" style=\"fill:none;\"/>\n  </g>\n  <g id=\"axes_1\">\n   <g id=\"patch_2\">\n    <path d=\"M 66.023594 239.758125 \nL 283.463594 239.758125 \nL 283.463594 22.318125 \nL 66.023594 22.318125 \nz\n\" style=\"fill:#eaeaf2;\"/>\n   </g>\n   <g clip-path=\"url(#pd9fba9a4e3)\">\n    <image height=\"217.584\" id=\"image10a2228785\" transform=\"scale(1 -1)translate(0 -217.584)\" width=\"217.44\" x=\"66.023594\" xlink:href=\"data:image/png;base64,\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\" y=\"-22.174125\"/>\n   </g>\n   <g id=\"matplotlib.axis_1\">\n    <g id=\"xtick_1\">\n     <g id=\"text_1\">\n      <!-- −0.5 -->\n      <defs>\n       <path d=\"M 10.59375 35.5 \nL 73.1875 35.5 \nL 73.1875 27.203125 \nL 10.59375 27.203125 \nz\n\" id=\"DejaVuSans-8722\"/>\n       <path d=\"M 31.78125 66.40625 \nQ 24.171875 66.40625 20.328125 58.90625 \nQ 16.5 51.421875 16.5 36.375 \nQ 16.5 21.390625 20.328125 13.890625 \nQ 24.171875 6.390625 31.78125 6.390625 \nQ 39.453125 6.390625 43.28125 13.890625 \nQ 47.125 21.390625 47.125 36.375 \nQ 47.125 51.421875 43.28125 58.90625 \nQ 39.453125 66.40625 31.78125 66.40625 \nz\nM 31.78125 74.21875 \nQ 44.046875 74.21875 50.515625 64.515625 \nQ 56.984375 54.828125 56.984375 36.375 \nQ 56.984375 17.96875 50.515625 8.265625 \nQ 44.046875 -1.421875 31.78125 -1.421875 \nQ 19.53125 -1.421875 13.0625 8.265625 \nQ 6.59375 17.96875 6.59375 36.375 \nQ 6.59375 54.828125 13.0625 64.515625 \nQ 19.53125 74.21875 31.78125 74.21875 \nz\n\" id=\"DejaVuSans-48\"/>\n       <path d=\"M 10.6875 12.40625 \nL 21 12.40625 \nL 21 0 \nL 10.6875 0 \nz\n\" id=\"DejaVuSans-46\"/>\n       <path d=\"M 10.796875 72.90625 \nL 49.515625 72.90625 \nL 49.515625 64.59375 \nL 19.828125 64.59375 \nL 19.828125 46.734375 \nQ 21.96875 47.46875 24.109375 47.828125 \nQ 26.265625 48.1875 28.421875 48.1875 \nQ 40.625 48.1875 47.75 41.5 \nQ 54.890625 34.8125 54.890625 23.390625 \nQ 54.890625 11.625 47.5625 5.09375 \nQ 40.234375 -1.421875 26.90625 -1.421875 \nQ 22.3125 -1.421875 17.546875 -0.640625 \nQ 12.796875 0.140625 7.71875 1.703125 \nL 7.71875 11.625 \nQ 12.109375 9.234375 16.796875 8.0625 \nQ 21.484375 6.890625 26.703125 6.890625 \nQ 35.15625 6.890625 40.078125 11.328125 \nQ 45.015625 15.765625 45.015625 23.390625 \nQ 45.015625 31 40.078125 35.4375 \nQ 35.15625 39.890625 26.703125 39.890625 \nQ 22.75 39.890625 18.8125 39.015625 \nQ 14.890625 38.140625 10.796875 36.28125 \nz\n\" id=\"DejaVuSans-53\"/>\n      </defs>\n      <g style=\"fill:#262626;\" transform=\"translate(52.668047 257.616406)scale(0.11 -0.11)\">\n       <use xlink:href=\"#DejaVuSans-8722\"/>\n       <use x=\"83.789062\" xlink:href=\"#DejaVuSans-48\"/>\n       <use x=\"147.412109\" xlink:href=\"#DejaVuSans-46\"/>\n       <use x=\"179.199219\" xlink:href=\"#DejaVuSans-53\"/>\n      </g>\n     </g>\n    </g>\n    <g id=\"xtick_2\">\n     <g id=\"text_2\">\n      <!-- 0.0 -->\n      <g style=\"fill:#262626;\" transform=\"translate(111.636875 257.616406)scale(0.11 -0.11)\">\n       <use xlink:href=\"#DejaVuSans-48\"/>\n       <use x=\"63.623047\" xlink:href=\"#DejaVuSans-46\"/>\n       <use x=\"95.410156\" xlink:href=\"#DejaVuSans-48\"/>\n      </g>\n     </g>\n    </g>\n    <g id=\"xtick_3\">\n     <g id=\"text_3\">\n      <!-- 0.5 -->\n      <g style=\"fill:#262626;\" transform=\"translate(165.996875 257.616406)scale(0.11 -0.11)\">\n       <use xlink:href=\"#DejaVuSans-48\"/>\n       <use x=\"63.623047\" xlink:href=\"#DejaVuSans-46\"/>\n       <use x=\"95.410156\" xlink:href=\"#DejaVuSans-53\"/>\n      </g>\n     </g>\n    </g>\n    <g id=\"xtick_4\">\n     <g id=\"text_4\">\n      <!-- 1.0 -->\n      <defs>\n       <path d=\"M 12.40625 8.296875 \nL 28.515625 8.296875 \nL 28.515625 63.921875 \nL 10.984375 60.40625 \nL 10.984375 69.390625 \nL 28.421875 72.90625 \nL 38.28125 72.90625 \nL 38.28125 8.296875 \nL 54.390625 8.296875 \nL 54.390625 0 \nL 12.40625 0 \nz\n\" id=\"DejaVuSans-49\"/>\n      </defs>\n      <g style=\"fill:#262626;\" transform=\"translate(220.356875 257.616406)scale(0.11 -0.11)\">\n       <use xlink:href=\"#DejaVuSans-49\"/>\n       <use x=\"63.623047\" xlink:href=\"#DejaVuSans-46\"/>\n       <use x=\"95.410156\" xlink:href=\"#DejaVuSans-48\"/>\n      </g>\n     </g>\n    </g>\n    <g id=\"xtick_5\">\n     <g id=\"text_5\">\n      <!-- 1.5 -->\n      <g style=\"fill:#262626;\" transform=\"translate(274.716875 257.616406)scale(0.11 -0.11)\">\n       <use xlink:href=\"#DejaVuSans-49\"/>\n       <use x=\"63.623047\" xlink:href=\"#DejaVuSans-46\"/>\n       <use x=\"95.410156\" xlink:href=\"#DejaVuSans-53\"/>\n      </g>\n     </g>\n    </g>\n    <g id=\"text_6\">\n     <!-- $x_1$ -->\n     <defs>\n      <path d=\"M 60.015625 54.6875 \nL 34.90625 27.875 \nL 50.296875 0 \nL 39.984375 0 \nL 28.421875 21.6875 \nL 8.296875 0 \nL -2.59375 0 \nL 24.3125 28.8125 \nL 10.015625 54.6875 \nL 20.3125 54.6875 \nL 30.8125 34.90625 \nL 49.125 54.6875 \nz\n\" id=\"DejaVuSans-Oblique-120\"/>\n     </defs>\n     <g style=\"fill:#262626;\" transform=\"translate(168.323594 273.022188)scale(0.12 -0.12)\">\n      <use transform=\"translate(0 0.3125)\" xlink:href=\"#DejaVuSans-Oblique-120\"/>\n      <use transform=\"translate(59.179688 -16.09375)scale(0.7)\" xlink:href=\"#DejaVuSans-49\"/>\n     </g>\n    </g>\n   </g>\n   <g id=\"matplotlib.axis_2\">\n    <g id=\"ytick_1\">\n     <g id=\"text_7\">\n      <!-- −0.50 -->\n      <g style=\"fill:#262626;\" transform=\"translate(22.81375 243.937266)scale(0.11 -0.11)\">\n       <use xlink:href=\"#DejaVuSans-8722\"/>\n       <use x=\"83.789062\" xlink:href=\"#DejaVuSans-48\"/>\n       <use x=\"147.412109\" xlink:href=\"#DejaVuSans-46\"/>\n       <use x=\"179.199219\" xlink:href=\"#DejaVuSans-53\"/>\n       <use x=\"242.822266\" xlink:href=\"#DejaVuSans-48\"/>\n      </g>\n     </g>\n    </g>\n    <g id=\"ytick_2\">\n     <g id=\"text_8\">\n      <!-- −0.25 -->\n      <defs>\n       <path d=\"M 19.1875 8.296875 \nL 53.609375 8.296875 \nL 53.609375 0 \nL 7.328125 0 \nL 7.328125 8.296875 \nQ 12.9375 14.109375 22.625 23.890625 \nQ 32.328125 33.6875 34.8125 36.53125 \nQ 39.546875 41.84375 41.421875 45.53125 \nQ 43.3125 49.21875 43.3125 52.78125 \nQ 43.3125 58.59375 39.234375 62.25 \nQ 35.15625 65.921875 28.609375 65.921875 \nQ 23.96875 65.921875 18.8125 64.3125 \nQ 13.671875 62.703125 7.8125 59.421875 \nL 7.8125 69.390625 \nQ 13.765625 71.78125 18.9375 73 \nQ 24.125 74.21875 28.421875 74.21875 \nQ 39.75 74.21875 46.484375 68.546875 \nQ 53.21875 62.890625 53.21875 53.421875 \nQ 53.21875 48.921875 51.53125 44.890625 \nQ 49.859375 40.875 45.40625 35.40625 \nQ 44.1875 33.984375 37.640625 27.21875 \nQ 31.109375 20.453125 19.1875 8.296875 \nz\n\" id=\"DejaVuSans-50\"/>\n      </defs>\n      <g style=\"fill:#262626;\" transform=\"translate(22.81375 216.757266)scale(0.11 -0.11)\">\n       <use xlink:href=\"#DejaVuSans-8722\"/>\n       <use x=\"83.789062\" xlink:href=\"#DejaVuSans-48\"/>\n       <use x=\"147.412109\" xlink:href=\"#DejaVuSans-46\"/>\n       <use x=\"179.199219\" xlink:href=\"#DejaVuSans-50\"/>\n       <use x=\"242.822266\" xlink:href=\"#DejaVuSans-53\"/>\n      </g>\n     </g>\n    </g>\n    <g id=\"ytick_3\">\n     <g id=\"text_9\">\n      <!-- 0.00 -->\n      <g style=\"fill:#262626;\" transform=\"translate(32.031406 189.577266)scale(0.11 -0.11)\">\n       <use xlink:href=\"#DejaVuSans-48\"/>\n       <use x=\"63.623047\" xlink:href=\"#DejaVuSans-46\"/>\n       <use x=\"95.410156\" xlink:href=\"#DejaVuSans-48\"/>\n       <use x=\"159.033203\" xlink:href=\"#DejaVuSans-48\"/>\n      </g>\n     </g>\n    </g>\n    <g id=\"ytick_4\">\n     <g id=\"text_10\">\n      <!-- 0.25 -->\n      <g style=\"fill:#262626;\" transform=\"translate(32.031406 162.397266)scale(0.11 -0.11)\">\n       <use xlink:href=\"#DejaVuSans-48\"/>\n       <use x=\"63.623047\" xlink:href=\"#DejaVuSans-46\"/>\n       <use x=\"95.410156\" xlink:href=\"#DejaVuSans-50\"/>\n       <use x=\"159.033203\" xlink:href=\"#DejaVuSans-53\"/>\n      </g>\n     </g>\n    </g>\n    <g id=\"ytick_5\">\n     <g id=\"text_11\">\n      <!-- 0.50 -->\n      <g style=\"fill:#262626;\" transform=\"translate(32.031406 135.217266)scale(0.11 -0.11)\">\n       <use xlink:href=\"#DejaVuSans-48\"/>\n       <use x=\"63.623047\" xlink:href=\"#DejaVuSans-46\"/>\n       <use x=\"95.410156\" xlink:href=\"#DejaVuSans-53\"/>\n       <use x=\"159.033203\" xlink:href=\"#DejaVuSans-48\"/>\n      </g>\n     </g>\n    </g>\n    <g id=\"ytick_6\">\n     <g id=\"text_12\">\n      <!-- 0.75 -->\n      <defs>\n       <path d=\"M 8.203125 72.90625 \nL 55.078125 72.90625 \nL 55.078125 68.703125 \nL 28.609375 0 \nL 18.3125 0 \nL 43.21875 64.59375 \nL 8.203125 64.59375 \nz\n\" id=\"DejaVuSans-55\"/>\n      </defs>\n      <g style=\"fill:#262626;\" transform=\"translate(32.031406 108.037266)scale(0.11 -0.11)\">\n       <use xlink:href=\"#DejaVuSans-48\"/>\n       <use x=\"63.623047\" xlink:href=\"#DejaVuSans-46\"/>\n       <use x=\"95.410156\" xlink:href=\"#DejaVuSans-55\"/>\n       <use x=\"159.033203\" xlink:href=\"#DejaVuSans-53\"/>\n      </g>\n     </g>\n    </g>\n    <g id=\"ytick_7\">\n     <g id=\"text_13\">\n      <!-- 1.00 -->\n      <g style=\"fill:#262626;\" transform=\"translate(32.031406 80.857266)scale(0.11 -0.11)\">\n       <use xlink:href=\"#DejaVuSans-49\"/>\n       <use x=\"63.623047\" xlink:href=\"#DejaVuSans-46\"/>\n       <use x=\"95.410156\" xlink:href=\"#DejaVuSans-48\"/>\n       <use x=\"159.033203\" xlink:href=\"#DejaVuSans-48\"/>\n      </g>\n     </g>\n    </g>\n    <g id=\"ytick_8\">\n     <g id=\"text_14\">\n      <!-- 1.25 -->\n      <g style=\"fill:#262626;\" transform=\"translate(32.031406 53.677266)scale(0.11 -0.11)\">\n       <use xlink:href=\"#DejaVuSans-49\"/>\n       <use x=\"63.623047\" xlink:href=\"#DejaVuSans-46\"/>\n       <use x=\"95.410156\" xlink:href=\"#DejaVuSans-50\"/>\n       <use x=\"159.033203\" xlink:href=\"#DejaVuSans-53\"/>\n      </g>\n     </g>\n    </g>\n    <g id=\"ytick_9\">\n     <g id=\"text_15\">\n      <!-- 1.50 -->\n      <g style=\"fill:#262626;\" transform=\"translate(32.031406 26.497266)scale(0.11 -0.11)\">\n       <use xlink:href=\"#DejaVuSans-49\"/>\n       <use x=\"63.623047\" xlink:href=\"#DejaVuSans-46\"/>\n       <use x=\"95.410156\" xlink:href=\"#DejaVuSans-53\"/>\n       <use x=\"159.033203\" xlink:href=\"#DejaVuSans-48\"/>\n      </g>\n     </g>\n    </g>\n    <g id=\"text_16\">\n     <!-- $x_2$ -->\n     <g style=\"fill:#262626;\" transform=\"translate(16.318125 137.458125)rotate(-90)scale(0.12 -0.12)\">\n      <use transform=\"translate(0 0.3125)\" xlink:href=\"#DejaVuSans-Oblique-120\"/>\n      <use transform=\"translate(59.179688 -16.09375)scale(0.7)\" xlink:href=\"#DejaVuSans-50\"/>\n     </g>\n    </g>\n   </g>\n   <g id=\"PathCollection_1\">\n    <defs>\n     <path d=\"M 0 3 \nC 0.795609 3 1.55874 2.683901 2.12132 2.12132 \nC 2.683901 1.55874 3 0.795609 3 0 \nC 3 -0.795609 2.683901 -1.55874 2.12132 -2.12132 \nC 1.55874 -2.683901 0.795609 -3 0 -3 \nC -0.795609 -3 -1.55874 -2.683901 -2.12132 -2.12132 \nC -2.683901 -1.55874 -3 -0.795609 -3 0 \nC -3 0.795609 -2.683901 1.55874 -2.12132 2.12132 \nC -1.55874 2.683901 -0.795609 3 0 3 \nz\n\" id=\"m1fb70a7444\" style=\"stroke:#333333;\"/>\n    </defs>\n    <g clip-path=\"url(#pd9fba9a4e3)\">\n     <use style=\"fill:#4c72b0;stroke:#333333;\" x=\"119.630631\" xlink:href=\"#m1fb70a7444\" y=\"183.02716\"/>\n     <use style=\"fill:#4c72b0;stroke:#333333;\" x=\"226.031964\" xlink:href=\"#m1fb70a7444\" y=\"79.706304\"/>\n     <use style=\"fill:#4c72b0;stroke:#333333;\" x=\"247.133981\" xlink:href=\"#m1fb70a7444\" y=\"80.994397\"/>\n     <use style=\"fill:#4c72b0;stroke:#333333;\" x=\"129.508171\" xlink:href=\"#m1fb70a7444\" y=\"191.757377\"/>\n     <use style=\"fill:#4c72b0;stroke:#333333;\" x=\"123.560838\" xlink:href=\"#m1fb70a7444\" y=\"192.256288\"/>\n     <use style=\"fill:#4c72b0;stroke:#333333;\" x=\"99.777688\" xlink:href=\"#m1fb70a7444\" y=\"180.061819\"/>\n     <use style=\"fill:#4c72b0;stroke:#333333;\" x=\"234.51915\" xlink:href=\"#m1fb70a7444\" y=\"76.887462\"/>\n     <use style=\"fill:#4c72b0;stroke:#333333;\" x=\"225.999868\" xlink:href=\"#m1fb70a7444\" y=\"71.275153\"/>\n     <use style=\"fill:#4c72b0;stroke:#333333;\" x=\"117.802169\" xlink:href=\"#m1fb70a7444\" y=\"191.868518\"/>\n     <use style=\"fill:#4c72b0;stroke:#333333;\" x=\"230.328368\" xlink:href=\"#m1fb70a7444\" y=\"72.953996\"/>\n     <use style=\"fill:#4c72b0;stroke:#333333;\" x=\"125.298818\" xlink:href=\"#m1fb70a7444\" y=\"188.528318\"/>\n     <use style=\"fill:#4c72b0;stroke:#333333;\" x=\"244.449888\" xlink:href=\"#m1fb70a7444\" y=\"56.122229\"/>\n     <use style=\"fill:#4c72b0;stroke:#333333;\" x=\"230.735196\" xlink:href=\"#m1fb70a7444\" y=\"80.056541\"/>\n     <use style=\"fill:#4c72b0;stroke:#333333;\" x=\"226.120069\" xlink:href=\"#m1fb70a7444\" y=\"76.248163\"/>\n     <use style=\"fill:#4c72b0;stroke:#333333;\" x=\"118.025743\" xlink:href=\"#m1fb70a7444\" y=\"198.228967\"/>\n     <use style=\"fill:#4c72b0;stroke:#333333;\" x=\"114.081258\" xlink:href=\"#m1fb70a7444\" y=\"176.499583\"/>\n     <use style=\"fill:#4c72b0;stroke:#333333;\" x=\"241.089092\" xlink:href=\"#m1fb70a7444\" y=\"102.286439\"/>\n     <use style=\"fill:#4c72b0;stroke:#333333;\" x=\"243.870155\" xlink:href=\"#m1fb70a7444\" y=\"96.725344\"/>\n     <use style=\"fill:#4c72b0;stroke:#333333;\" x=\"221.366377\" xlink:href=\"#m1fb70a7444\" y=\"77.338064\"/>\n     <use style=\"fill:#4c72b0;stroke:#333333;\" x=\"108.430696\" xlink:href=\"#m1fb70a7444\" y=\"195.532199\"/>\n     <use style=\"fill:#4c72b0;stroke:#333333;\" x=\"243.209899\" xlink:href=\"#m1fb70a7444\" y=\"56.455519\"/>\n     <use style=\"fill:#4c72b0;stroke:#333333;\" x=\"236.294807\" xlink:href=\"#m1fb70a7444\" y=\"77.981996\"/>\n     <use style=\"fill:#4c72b0;stroke:#333333;\" x=\"133.825974\" xlink:href=\"#m1fb70a7444\" y=\"169.253244\"/>\n     <use style=\"fill:#4c72b0;stroke:#333333;\" x=\"223.367053\" xlink:href=\"#m1fb70a7444\" y=\"56.228154\"/>\n     <use style=\"fill:#4c72b0;stroke:#333333;\" x=\"122.349988\" xlink:href=\"#m1fb70a7444\" y=\"184.170689\"/>\n     <use style=\"fill:#4c72b0;stroke:#333333;\" x=\"222.700323\" xlink:href=\"#m1fb70a7444\" y=\"71.325868\"/>\n     <use style=\"fill:#4c72b0;stroke:#333333;\" x=\"112.238888\" xlink:href=\"#m1fb70a7444\" y=\"172.132264\"/>\n     <use style=\"fill:#4c72b0;stroke:#333333;\" x=\"240.665545\" xlink:href=\"#m1fb70a7444\" y=\"69.175006\"/>\n     <use style=\"fill:#4c72b0;stroke:#333333;\" x=\"237.270961\" xlink:href=\"#m1fb70a7444\" y=\"79.208287\"/>\n     <use style=\"fill:#4c72b0;stroke:#333333;\" x=\"232.398097\" xlink:href=\"#m1fb70a7444\" y=\"65.173809\"/>\n     <use style=\"fill:#4c72b0;stroke:#333333;\" x=\"116.51829\" xlink:href=\"#m1fb70a7444\" y=\"175.976269\"/>\n     <use style=\"fill:#4c72b0;stroke:#333333;\" x=\"126.053648\" xlink:href=\"#m1fb70a7444\" y=\"195.931899\"/>\n     <use style=\"fill:#4c72b0;stroke:#333333;\" x=\"112.614408\" xlink:href=\"#m1fb70a7444\" y=\"164.360655\"/>\n     <use style=\"fill:#4c72b0;stroke:#333333;\" x=\"120.754486\" xlink:href=\"#m1fb70a7444\" y=\"189.323026\"/>\n     <use style=\"fill:#4c72b0;stroke:#333333;\" x=\"132.086248\" xlink:href=\"#m1fb70a7444\" y=\"188.967644\"/>\n     <use style=\"fill:#4c72b0;stroke:#333333;\" x=\"117.33798\" xlink:href=\"#m1fb70a7444\" y=\"184.898956\"/>\n     <use style=\"fill:#4c72b0;stroke:#333333;\" x=\"132.681917\" xlink:href=\"#m1fb70a7444\" y=\"197.902563\"/>\n     <use style=\"fill:#4c72b0;stroke:#333333;\" x=\"211.817945\" xlink:href=\"#m1fb70a7444\" y=\"61.965272\"/>\n     <use style=\"fill:#4c72b0;stroke:#333333;\" x=\"242.767676\" xlink:href=\"#m1fb70a7444\" y=\"81.643688\"/>\n     <use style=\"fill:#4c72b0;stroke:#333333;\" x=\"230.848535\" xlink:href=\"#m1fb70a7444\" y=\"80.978112\"/>\n     <use style=\"fill:#4c72b0;stroke:#333333;\" x=\"117.29724\" xlink:href=\"#m1fb70a7444\" y=\"192.545811\"/>\n     <use style=\"fill:#4c72b0;stroke:#333333;\" x=\"218.694842\" xlink:href=\"#m1fb70a7444\" y=\"100.930901\"/>\n     <use style=\"fill:#4c72b0;stroke:#333333;\" x=\"237.013269\" xlink:href=\"#m1fb70a7444\" y=\"75.481734\"/>\n     <use style=\"fill:#4c72b0;stroke:#333333;\" x=\"120.882148\" xlink:href=\"#m1fb70a7444\" y=\"197.835874\"/>\n     <use style=\"fill:#4c72b0;stroke:#333333;\" x=\"130.837184\" xlink:href=\"#m1fb70a7444\" y=\"202.207751\"/>\n     <use style=\"fill:#4c72b0;stroke:#333333;\" x=\"137.632723\" xlink:href=\"#m1fb70a7444\" y=\"170.190943\"/>\n     <use style=\"fill:#4c72b0;stroke:#333333;\" x=\"223.973336\" xlink:href=\"#m1fb70a7444\" y=\"87.364405\"/>\n     <use style=\"fill:#4c72b0;stroke:#333333;\" x=\"214.314041\" xlink:href=\"#m1fb70a7444\" y=\"65.697345\"/>\n     <use style=\"fill:#4c72b0;stroke:#333333;\" x=\"115.013359\" xlink:href=\"#m1fb70a7444\" y=\"192.863185\"/>\n     <use style=\"fill:#4c72b0;stroke:#333333;\" x=\"224.918896\" xlink:href=\"#m1fb70a7444\" y=\"84.700348\"/>\n     <use style=\"fill:#4c72b0;stroke:#333333;\" x=\"121.457606\" xlink:href=\"#m1fb70a7444\" y=\"189.098171\"/>\n     <use style=\"fill:#4c72b0;stroke:#333333;\" x=\"234.057486\" xlink:href=\"#m1fb70a7444\" y=\"57.230812\"/>\n     <use style=\"fill:#4c72b0;stroke:#333333;\" x=\"118.733434\" xlink:href=\"#m1fb70a7444\" y=\"179.431408\"/>\n     <use style=\"fill:#4c72b0;stroke:#333333;\" x=\"222.58491\" xlink:href=\"#m1fb70a7444\" y=\"91.072443\"/>\n     <use style=\"fill:#4c72b0;stroke:#333333;\" x=\"231.601005\" xlink:href=\"#m1fb70a7444\" y=\"68.121491\"/>\n     <use style=\"fill:#4c72b0;stroke:#333333;\" x=\"99.779319\" xlink:href=\"#m1fb70a7444\" y=\"180.887702\"/>\n     <use style=\"fill:#4c72b0;stroke:#333333;\" x=\"214.217362\" xlink:href=\"#m1fb70a7444\" y=\"67.932904\"/>\n     <use style=\"fill:#4c72b0;stroke:#333333;\" x=\"238.012583\" xlink:href=\"#m1fb70a7444\" y=\"82.439245\"/>\n     <use style=\"fill:#4c72b0;stroke:#333333;\" x=\"109.151519\" xlink:href=\"#m1fb70a7444\" y=\"185.78207\"/>\n     <use style=\"fill:#4c72b0;stroke:#333333;\" x=\"118.296971\" xlink:href=\"#m1fb70a7444\" y=\"211.814172\"/>\n     <use style=\"fill:#4c72b0;stroke:#333333;\" x=\"117.869736\" xlink:href=\"#m1fb70a7444\" y=\"188.183661\"/>\n     <use style=\"fill:#4c72b0;stroke:#333333;\" x=\"103.652181\" xlink:href=\"#m1fb70a7444\" y=\"188.29022\"/>\n     <use style=\"fill:#4c72b0;stroke:#333333;\" x=\"249.158362\" xlink:href=\"#m1fb70a7444\" y=\"82.547711\"/>\n     <use style=\"fill:#4c72b0;stroke:#333333;\" x=\"222.578268\" xlink:href=\"#m1fb70a7444\" y=\"88.854193\"/>\n     <use style=\"fill:#4c72b0;stroke:#333333;\" x=\"242.8908\" xlink:href=\"#m1fb70a7444\" y=\"62.012163\"/>\n     <use style=\"fill:#4c72b0;stroke:#333333;\" x=\"104.094434\" xlink:href=\"#m1fb70a7444\" y=\"176.722784\"/>\n     <use style=\"fill:#4c72b0;stroke:#333333;\" x=\"231.393236\" xlink:href=\"#m1fb70a7444\" y=\"95.68291\"/>\n     <use style=\"fill:#4c72b0;stroke:#333333;\" x=\"239.48669\" xlink:href=\"#m1fb70a7444\" y=\"101.379014\"/>\n     <use style=\"fill:#4c72b0;stroke:#333333;\" x=\"136.934591\" xlink:href=\"#m1fb70a7444\" y=\"202.700628\"/>\n     <use style=\"fill:#4c72b0;stroke:#333333;\" x=\"129.34932\" xlink:href=\"#m1fb70a7444\" y=\"193.853222\"/>\n     <use style=\"fill:#4c72b0;stroke:#333333;\" x=\"118.571429\" xlink:href=\"#m1fb70a7444\" y=\"180.426817\"/>\n     <use style=\"fill:#4c72b0;stroke:#333333;\" x=\"119.232936\" xlink:href=\"#m1fb70a7444\" y=\"178.6056\"/>\n     <use style=\"fill:#4c72b0;stroke:#333333;\" x=\"231.872798\" xlink:href=\"#m1fb70a7444\" y=\"73.188217\"/>\n     <use style=\"fill:#4c72b0;stroke:#333333;\" x=\"222.04492\" xlink:href=\"#m1fb70a7444\" y=\"100.191683\"/>\n     <use style=\"fill:#4c72b0;stroke:#333333;\" x=\"118.537332\" xlink:href=\"#m1fb70a7444\" y=\"184.756952\"/>\n     <use style=\"fill:#4c72b0;stroke:#333333;\" x=\"128.001579\" xlink:href=\"#m1fb70a7444\" y=\"177.927389\"/>\n     <use style=\"fill:#4c72b0;stroke:#333333;\" x=\"129.237429\" xlink:href=\"#m1fb70a7444\" y=\"183.651319\"/>\n     <use style=\"fill:#4c72b0;stroke:#333333;\" x=\"231.651809\" xlink:href=\"#m1fb70a7444\" y=\"60.366512\"/>\n     <use style=\"fill:#4c72b0;stroke:#333333;\" x=\"230.938506\" xlink:href=\"#m1fb70a7444\" y=\"58.920283\"/>\n     <use style=\"fill:#4c72b0;stroke:#333333;\" x=\"120.165842\" xlink:href=\"#m1fb70a7444\" y=\"194.670616\"/>\n     <use style=\"fill:#4c72b0;stroke:#333333;\" x=\"240.120766\" xlink:href=\"#m1fb70a7444\" y=\"60.454033\"/>\n     <use style=\"fill:#4c72b0;stroke:#333333;\" x=\"226.268479\" xlink:href=\"#m1fb70a7444\" y=\"87.76343\"/>\n     <use style=\"fill:#4c72b0;stroke:#333333;\" x=\"238.684543\" xlink:href=\"#m1fb70a7444\" y=\"57.202935\"/>\n     <use style=\"fill:#4c72b0;stroke:#333333;\" x=\"113.452012\" xlink:href=\"#m1fb70a7444\" y=\"182.733923\"/>\n     <use style=\"fill:#4c72b0;stroke:#333333;\" x=\"227.766505\" xlink:href=\"#m1fb70a7444\" y=\"68.561718\"/>\n     <use style=\"fill:#4c72b0;stroke:#333333;\" x=\"121.374115\" xlink:href=\"#m1fb70a7444\" y=\"198.141743\"/>\n     <use style=\"fill:#4c72b0;stroke:#333333;\" x=\"128.635568\" xlink:href=\"#m1fb70a7444\" y=\"191.679503\"/>\n     <use style=\"fill:#4c72b0;stroke:#333333;\" x=\"112.901568\" xlink:href=\"#m1fb70a7444\" y=\"181.366251\"/>\n     <use style=\"fill:#4c72b0;stroke:#333333;\" x=\"210.95062\" xlink:href=\"#m1fb70a7444\" y=\"73.166107\"/>\n     <use style=\"fill:#4c72b0;stroke:#333333;\" x=\"220.631799\" xlink:href=\"#m1fb70a7444\" y=\"68.440188\"/>\n     <use style=\"fill:#4c72b0;stroke:#333333;\" x=\"202.975767\" xlink:href=\"#m1fb70a7444\" y=\"65.960727\"/>\n     <use style=\"fill:#4c72b0;stroke:#333333;\" x=\"112.31741\" xlink:href=\"#m1fb70a7444\" y=\"181.616921\"/>\n     <use style=\"fill:#4c72b0;stroke:#333333;\" x=\"135.601683\" xlink:href=\"#m1fb70a7444\" y=\"193.778082\"/>\n     <use style=\"fill:#4c72b0;stroke:#333333;\" x=\"116.076055\" xlink:href=\"#m1fb70a7444\" y=\"196.017082\"/>\n     <use style=\"fill:#4c72b0;stroke:#333333;\" x=\"221.199232\" xlink:href=\"#m1fb70a7444\" y=\"102.201172\"/>\n     <use style=\"fill:#4c72b0;stroke:#333333;\" x=\"124.157667\" xlink:href=\"#m1fb70a7444\" y=\"184.585026\"/>\n     <use style=\"fill:#4c72b0;stroke:#333333;\" x=\"118.528228\" xlink:href=\"#m1fb70a7444\" y=\"179.737071\"/>\n     <use style=\"fill:#4c72b0;stroke:#333333;\" x=\"114.303985\" xlink:href=\"#m1fb70a7444\" y=\"188.460235\"/>\n     <use style=\"fill:#4c72b0;stroke:#333333;\" x=\"121.868835\" xlink:href=\"#m1fb70a7444\" y=\"194.747632\"/>\n     <use style=\"fill:#4c72b0;stroke:#333333;\" x=\"209.979417\" xlink:href=\"#m1fb70a7444\" y=\"76.337577\"/>\n     <use style=\"fill:#4c72b0;stroke:#333333;\" x=\"217.169827\" xlink:href=\"#m1fb70a7444\" y=\"63.421804\"/>\n     <use style=\"fill:#4c72b0;stroke:#333333;\" x=\"100.682479\" xlink:href=\"#m1fb70a7444\" y=\"199.661904\"/>\n     <use style=\"fill:#4c72b0;stroke:#333333;\" x=\"229.056521\" xlink:href=\"#m1fb70a7444\" y=\"94.135493\"/>\n    </g>\n   </g>\n   <g id=\"PathCollection_2\">\n    <defs>\n     <path d=\"M 0 3 \nC 0.795609 3 1.55874 2.683901 2.12132 2.12132 \nC 2.683901 1.55874 3 0.795609 3 0 \nC 3 -0.795609 2.683901 -1.55874 2.12132 -2.12132 \nC 1.55874 -2.683901 0.795609 -3 0 -3 \nC -0.795609 -3 -1.55874 -2.683901 -2.12132 -2.12132 \nC -2.683901 -1.55874 -3 -0.795609 -3 0 \nC -3 0.795609 -2.683901 1.55874 -2.12132 2.12132 \nC -1.55874 2.683901 -0.795609 3 0 3 \nz\n\" id=\"mf08a07eb3a\" style=\"stroke:#333333;\"/>\n    </defs>\n    <g clip-path=\"url(#pd9fba9a4e3)\">\n     <use style=\"fill:#dd8452;stroke:#333333;\" x=\"225.106583\" xlink:href=\"#mf08a07eb3a\" y=\"173.251328\"/>\n     <use style=\"fill:#dd8452;stroke:#333333;\" x=\"235.269183\" xlink:href=\"#mf08a07eb3a\" y=\"173.464324\"/>\n     <use style=\"fill:#dd8452;stroke:#333333;\" x=\"226.000172\" xlink:href=\"#mf08a07eb3a\" y=\"187.443356\"/>\n     <use style=\"fill:#dd8452;stroke:#333333;\" x=\"114.484569\" xlink:href=\"#mf08a07eb3a\" y=\"66.511974\"/>\n     <use style=\"fill:#dd8452;stroke:#333333;\" x=\"240.633701\" xlink:href=\"#mf08a07eb3a\" y=\"189.544269\"/>\n     <use style=\"fill:#dd8452;stroke:#333333;\" x=\"122.835483\" xlink:href=\"#mf08a07eb3a\" y=\"80.815627\"/>\n     <use style=\"fill:#dd8452;stroke:#333333;\" x=\"216.472711\" xlink:href=\"#mf08a07eb3a\" y=\"197.223837\"/>\n     <use style=\"fill:#dd8452;stroke:#333333;\" x=\"146.505684\" xlink:href=\"#mf08a07eb3a\" y=\"77.700995\"/>\n     <use style=\"fill:#dd8452;stroke:#333333;\" x=\"238.16435\" xlink:href=\"#mf08a07eb3a\" y=\"201.829041\"/>\n     <use style=\"fill:#dd8452;stroke:#333333;\" x=\"212.502729\" xlink:href=\"#mf08a07eb3a\" y=\"176.909335\"/>\n     <use style=\"fill:#dd8452;stroke:#333333;\" x=\"224.346149\" xlink:href=\"#mf08a07eb3a\" y=\"167.032503\"/>\n     <use style=\"fill:#dd8452;stroke:#333333;\" x=\"95.660785\" xlink:href=\"#mf08a07eb3a\" y=\"65.861243\"/>\n     <use style=\"fill:#dd8452;stroke:#333333;\" x=\"135.521852\" xlink:href=\"#mf08a07eb3a\" y=\"66.622254\"/>\n     <use style=\"fill:#dd8452;stroke:#333333;\" x=\"119.760605\" xlink:href=\"#mf08a07eb3a\" y=\"91.009332\"/>\n     <use style=\"fill:#dd8452;stroke:#333333;\" x=\"120.004286\" xlink:href=\"#mf08a07eb3a\" y=\"63.911605\"/>\n     <use style=\"fill:#dd8452;stroke:#333333;\" x=\"103.481343\" xlink:href=\"#mf08a07eb3a\" y=\"61.50077\"/>\n     <use style=\"fill:#dd8452;stroke:#333333;\" x=\"227.493331\" xlink:href=\"#mf08a07eb3a\" y=\"189.668312\"/>\n     <use style=\"fill:#dd8452;stroke:#333333;\" x=\"213.667186\" xlink:href=\"#mf08a07eb3a\" y=\"173.135684\"/>\n     <use style=\"fill:#dd8452;stroke:#333333;\" x=\"221.241134\" xlink:href=\"#mf08a07eb3a\" y=\"174.762918\"/>\n     <use style=\"fill:#dd8452;stroke:#333333;\" x=\"128.705121\" xlink:href=\"#mf08a07eb3a\" y=\"77.433213\"/>\n     <use style=\"fill:#dd8452;stroke:#333333;\" x=\"210.518979\" xlink:href=\"#mf08a07eb3a\" y=\"182.099388\"/>\n     <use style=\"fill:#dd8452;stroke:#333333;\" x=\"245.652526\" xlink:href=\"#mf08a07eb3a\" y=\"188.7116\"/>\n     <use style=\"fill:#dd8452;stroke:#333333;\" x=\"238.941937\" xlink:href=\"#mf08a07eb3a\" y=\"186.794029\"/>\n     <use style=\"fill:#dd8452;stroke:#333333;\" x=\"219.148399\" xlink:href=\"#mf08a07eb3a\" y=\"189.950709\"/>\n     <use style=\"fill:#dd8452;stroke:#333333;\" x=\"243.720579\" xlink:href=\"#mf08a07eb3a\" y=\"169.740566\"/>\n     <use style=\"fill:#dd8452;stroke:#333333;\" x=\"109.353919\" xlink:href=\"#mf08a07eb3a\" y=\"86.031191\"/>\n     <use style=\"fill:#dd8452;stroke:#333333;\" x=\"241.447046\" xlink:href=\"#mf08a07eb3a\" y=\"172.051387\"/>\n     <use style=\"fill:#dd8452;stroke:#333333;\" x=\"131.002081\" xlink:href=\"#mf08a07eb3a\" y=\"74.175724\"/>\n     <use style=\"fill:#dd8452;stroke:#333333;\" x=\"226.085809\" xlink:href=\"#mf08a07eb3a\" y=\"171.48351\"/>\n     <use style=\"fill:#dd8452;stroke:#333333;\" x=\"97.829446\" xlink:href=\"#mf08a07eb3a\" y=\"75.633164\"/>\n     <use style=\"fill:#dd8452;stroke:#333333;\" x=\"118.780167\" xlink:href=\"#mf08a07eb3a\" y=\"82.837267\"/>\n     <use style=\"fill:#dd8452;stroke:#333333;\" x=\"219.240354\" xlink:href=\"#mf08a07eb3a\" y=\"195.115065\"/>\n     <use style=\"fill:#dd8452;stroke:#333333;\" x=\"212.61881\" xlink:href=\"#mf08a07eb3a\" y=\"174.999985\"/>\n     <use style=\"fill:#dd8452;stroke:#333333;\" x=\"122.682803\" xlink:href=\"#mf08a07eb3a\" y=\"78.537928\"/>\n     <use style=\"fill:#dd8452;stroke:#333333;\" x=\"235.492375\" xlink:href=\"#mf08a07eb3a\" y=\"175.571697\"/>\n     <use style=\"fill:#dd8452;stroke:#333333;\" x=\"123.134665\" xlink:href=\"#mf08a07eb3a\" y=\"84.738407\"/>\n     <use style=\"fill:#dd8452;stroke:#333333;\" x=\"120.707838\" xlink:href=\"#mf08a07eb3a\" y=\"86.904679\"/>\n     <use style=\"fill:#dd8452;stroke:#333333;\" x=\"248.9068\" xlink:href=\"#mf08a07eb3a\" y=\"195.654551\"/>\n     <use style=\"fill:#dd8452;stroke:#333333;\" x=\"225.623296\" xlink:href=\"#mf08a07eb3a\" y=\"172.59052\"/>\n     <use style=\"fill:#dd8452;stroke:#333333;\" x=\"110.319052\" xlink:href=\"#mf08a07eb3a\" y=\"74.729342\"/>\n     <use style=\"fill:#dd8452;stroke:#333333;\" x=\"134.047358\" xlink:href=\"#mf08a07eb3a\" y=\"76.348126\"/>\n     <use style=\"fill:#dd8452;stroke:#333333;\" x=\"136.739925\" xlink:href=\"#mf08a07eb3a\" y=\"62.486839\"/>\n     <use style=\"fill:#dd8452;stroke:#333333;\" x=\"235.652384\" xlink:href=\"#mf08a07eb3a\" y=\"193.26863\"/>\n     <use style=\"fill:#dd8452;stroke:#333333;\" x=\"110.715208\" xlink:href=\"#mf08a07eb3a\" y=\"78.005027\"/>\n     <use style=\"fill:#dd8452;stroke:#333333;\" x=\"223.722318\" xlink:href=\"#mf08a07eb3a\" y=\"176.670472\"/>\n     <use style=\"fill:#dd8452;stroke:#333333;\" x=\"122.416481\" xlink:href=\"#mf08a07eb3a\" y=\"88.653235\"/>\n     <use style=\"fill:#dd8452;stroke:#333333;\" x=\"128.615513\" xlink:href=\"#mf08a07eb3a\" y=\"70.241533\"/>\n     <use style=\"fill:#dd8452;stroke:#333333;\" x=\"127.758799\" xlink:href=\"#mf08a07eb3a\" y=\"72.957314\"/>\n     <use style=\"fill:#dd8452;stroke:#333333;\" x=\"216.816072\" xlink:href=\"#mf08a07eb3a\" y=\"177.378942\"/>\n     <use style=\"fill:#dd8452;stroke:#333333;\" x=\"110.710258\" xlink:href=\"#mf08a07eb3a\" y=\"91.806632\"/>\n     <use style=\"fill:#dd8452;stroke:#333333;\" x=\"126.826018\" xlink:href=\"#mf08a07eb3a\" y=\"68.692592\"/>\n     <use style=\"fill:#dd8452;stroke:#333333;\" x=\"210.324249\" xlink:href=\"#mf08a07eb3a\" y=\"174.268046\"/>\n     <use style=\"fill:#dd8452;stroke:#333333;\" x=\"231.301528\" xlink:href=\"#mf08a07eb3a\" y=\"196.626833\"/>\n     <use style=\"fill:#dd8452;stroke:#333333;\" x=\"124.811149\" xlink:href=\"#mf08a07eb3a\" y=\"69.094029\"/>\n     <use style=\"fill:#dd8452;stroke:#333333;\" x=\"129.754097\" xlink:href=\"#mf08a07eb3a\" y=\"84.153386\"/>\n     <use style=\"fill:#dd8452;stroke:#333333;\" x=\"215.731582\" xlink:href=\"#mf08a07eb3a\" y=\"184.433377\"/>\n     <use style=\"fill:#dd8452;stroke:#333333;\" x=\"209.065888\" xlink:href=\"#mf08a07eb3a\" y=\"186.557453\"/>\n     <use style=\"fill:#dd8452;stroke:#333333;\" x=\"127.545364\" xlink:href=\"#mf08a07eb3a\" y=\"79.883512\"/>\n     <use style=\"fill:#dd8452;stroke:#333333;\" x=\"92.976375\" xlink:href=\"#mf08a07eb3a\" y=\"85.530225\"/>\n     <use style=\"fill:#dd8452;stroke:#333333;\" x=\"116.12126\" xlink:href=\"#mf08a07eb3a\" y=\"91.775968\"/>\n     <use style=\"fill:#dd8452;stroke:#333333;\" x=\"129.954867\" xlink:href=\"#mf08a07eb3a\" y=\"71.807464\"/>\n     <use style=\"fill:#dd8452;stroke:#333333;\" x=\"112.745245\" xlink:href=\"#mf08a07eb3a\" y=\"80.555517\"/>\n     <use style=\"fill:#dd8452;stroke:#333333;\" x=\"117.845794\" xlink:href=\"#mf08a07eb3a\" y=\"74.684201\"/>\n     <use style=\"fill:#dd8452;stroke:#333333;\" x=\"130.448762\" xlink:href=\"#mf08a07eb3a\" y=\"84.523445\"/>\n     <use style=\"fill:#dd8452;stroke:#333333;\" x=\"245.831937\" xlink:href=\"#mf08a07eb3a\" y=\"190.109778\"/>\n     <use style=\"fill:#dd8452;stroke:#333333;\" x=\"106.658638\" xlink:href=\"#mf08a07eb3a\" y=\"62.144579\"/>\n     <use style=\"fill:#dd8452;stroke:#333333;\" x=\"246.404283\" xlink:href=\"#mf08a07eb3a\" y=\"176.479967\"/>\n     <use style=\"fill:#dd8452;stroke:#333333;\" x=\"236.011259\" xlink:href=\"#mf08a07eb3a\" y=\"166.124698\"/>\n     <use style=\"fill:#dd8452;stroke:#333333;\" x=\"212.249729\" xlink:href=\"#mf08a07eb3a\" y=\"197.183933\"/>\n     <use style=\"fill:#dd8452;stroke:#333333;\" x=\"215.317191\" xlink:href=\"#mf08a07eb3a\" y=\"209.749946\"/>\n     <use style=\"fill:#dd8452;stroke:#333333;\" x=\"121.147611\" xlink:href=\"#mf08a07eb3a\" y=\"63.325534\"/>\n     <use style=\"fill:#dd8452;stroke:#333333;\" x=\"217.436177\" xlink:href=\"#mf08a07eb3a\" y=\"171.712521\"/>\n     <use style=\"fill:#dd8452;stroke:#333333;\" x=\"207.005023\" xlink:href=\"#mf08a07eb3a\" y=\"160.73698\"/>\n     <use style=\"fill:#dd8452;stroke:#333333;\" x=\"110.361651\" xlink:href=\"#mf08a07eb3a\" y=\"67.872443\"/>\n     <use style=\"fill:#dd8452;stroke:#333333;\" x=\"129.043462\" xlink:href=\"#mf08a07eb3a\" y=\"77.896386\"/>\n     <use style=\"fill:#dd8452;stroke:#333333;\" x=\"237.76373\" xlink:href=\"#mf08a07eb3a\" y=\"175.913803\"/>\n     <use style=\"fill:#dd8452;stroke:#333333;\" x=\"116.269928\" xlink:href=\"#mf08a07eb3a\" y=\"71.243232\"/>\n     <use style=\"fill:#dd8452;stroke:#333333;\" x=\"125.638155\" xlink:href=\"#mf08a07eb3a\" y=\"79.260109\"/>\n     <use style=\"fill:#dd8452;stroke:#333333;\" x=\"124.383578\" xlink:href=\"#mf08a07eb3a\" y=\"81.810632\"/>\n     <use style=\"fill:#dd8452;stroke:#333333;\" x=\"224.832211\" xlink:href=\"#mf08a07eb3a\" y=\"170.303854\"/>\n     <use style=\"fill:#dd8452;stroke:#333333;\" x=\"231.06973\" xlink:href=\"#mf08a07eb3a\" y=\"163.041048\"/>\n     <use style=\"fill:#dd8452;stroke:#333333;\" x=\"238.010678\" xlink:href=\"#mf08a07eb3a\" y=\"176.611656\"/>\n     <use style=\"fill:#dd8452;stroke:#333333;\" x=\"149.805548\" xlink:href=\"#mf08a07eb3a\" y=\"77.469185\"/>\n     <use style=\"fill:#dd8452;stroke:#333333;\" x=\"211.663632\" xlink:href=\"#mf08a07eb3a\" y=\"198.978781\"/>\n     <use style=\"fill:#dd8452;stroke:#333333;\" x=\"252.021957\" xlink:href=\"#mf08a07eb3a\" y=\"198.229188\"/>\n     <use style=\"fill:#dd8452;stroke:#333333;\" x=\"221.941788\" xlink:href=\"#mf08a07eb3a\" y=\"195.840128\"/>\n     <use style=\"fill:#dd8452;stroke:#333333;\" x=\"113.472343\" xlink:href=\"#mf08a07eb3a\" y=\"85.737332\"/>\n     <use style=\"fill:#dd8452;stroke:#333333;\" x=\"111.705327\" xlink:href=\"#mf08a07eb3a\" y=\"77.466631\"/>\n     <use style=\"fill:#dd8452;stroke:#333333;\" x=\"239.867221\" xlink:href=\"#mf08a07eb3a\" y=\"198.103735\"/>\n     <use style=\"fill:#dd8452;stroke:#333333;\" x=\"112.049484\" xlink:href=\"#mf08a07eb3a\" y=\"83.321073\"/>\n     <use style=\"fill:#dd8452;stroke:#333333;\" x=\"101.004874\" xlink:href=\"#mf08a07eb3a\" y=\"79.424966\"/>\n     <use style=\"fill:#dd8452;stroke:#333333;\" x=\"135.319358\" xlink:href=\"#mf08a07eb3a\" y=\"69.050871\"/>\n     <use style=\"fill:#dd8452;stroke:#333333;\" x=\"114.389143\" xlink:href=\"#mf08a07eb3a\" y=\"71.394117\"/>\n     <use style=\"fill:#dd8452;stroke:#333333;\" x=\"245.872438\" xlink:href=\"#mf08a07eb3a\" y=\"196.147065\"/>\n     <use style=\"fill:#dd8452;stroke:#333333;\" x=\"208.220732\" xlink:href=\"#mf08a07eb3a\" y=\"181.948403\"/>\n     <use style=\"fill:#dd8452;stroke:#333333;\" x=\"121.062741\" xlink:href=\"#mf08a07eb3a\" y=\"65.860828\"/>\n     <use style=\"fill:#dd8452;stroke:#333333;\" x=\"243.716211\" xlink:href=\"#mf08a07eb3a\" y=\"194.238972\"/>\n    </g>\n   </g>\n   <g id=\"patch_3\">\n    <path d=\"M 66.023594 239.758125 \nL 66.023594 22.318125 \n\" style=\"fill:none;stroke:#ffffff;stroke-linecap:square;stroke-linejoin:miter;stroke-width:1.25;\"/>\n   </g>\n   <g id=\"patch_4\">\n    <path d=\"M 283.463594 239.758125 \nL 283.463594 22.318125 \n\" style=\"fill:none;stroke:#ffffff;stroke-linecap:square;stroke-linejoin:miter;stroke-width:1.25;\"/>\n   </g>\n   <g id=\"patch_5\">\n    <path d=\"M 66.023594 239.758125 \nL 283.463594 239.758125 \n\" style=\"fill:none;stroke:#ffffff;stroke-linecap:square;stroke-linejoin:miter;stroke-width:1.25;\"/>\n   </g>\n   <g id=\"patch_6\">\n    <path d=\"M 66.023594 22.318125 \nL 283.463594 22.318125 \n\" style=\"fill:none;stroke:#ffffff;stroke-linecap:square;stroke-linejoin:miter;stroke-width:1.25;\"/>\n   </g>\n   <g id=\"text_17\">\n    <!-- Dataset samples -->\n    <defs>\n     <path d=\"M 19.671875 64.796875 \nL 19.671875 8.109375 \nL 31.59375 8.109375 \nQ 46.6875 8.109375 53.6875 14.9375 \nQ 60.6875 21.78125 60.6875 36.53125 \nQ 60.6875 51.171875 53.6875 57.984375 \nQ 46.6875 64.796875 31.59375 64.796875 \nz\nM 9.8125 72.90625 \nL 30.078125 72.90625 \nQ 51.265625 72.90625 61.171875 64.09375 \nQ 71.09375 55.28125 71.09375 36.53125 \nQ 71.09375 17.671875 61.125 8.828125 \nQ 51.171875 0 30.078125 0 \nL 9.8125 0 \nz\n\" id=\"DejaVuSans-68\"/>\n     <path d=\"M 34.28125 27.484375 \nQ 23.390625 27.484375 19.1875 25 \nQ 14.984375 22.515625 14.984375 16.5 \nQ 14.984375 11.71875 18.140625 8.90625 \nQ 21.296875 6.109375 26.703125 6.109375 \nQ 34.1875 6.109375 38.703125 11.40625 \nQ 43.21875 16.703125 43.21875 25.484375 \nL 43.21875 27.484375 \nz\nM 52.203125 31.203125 \nL 52.203125 0 \nL 43.21875 0 \nL 43.21875 8.296875 \nQ 40.140625 3.328125 35.546875 0.953125 \nQ 30.953125 -1.421875 24.3125 -1.421875 \nQ 15.921875 -1.421875 10.953125 3.296875 \nQ 6 8.015625 6 15.921875 \nQ 6 25.140625 12.171875 29.828125 \nQ 18.359375 34.515625 30.609375 34.515625 \nL 43.21875 34.515625 \nL 43.21875 35.40625 \nQ 43.21875 41.609375 39.140625 45 \nQ 35.0625 48.390625 27.6875 48.390625 \nQ 23 48.390625 18.546875 47.265625 \nQ 14.109375 46.140625 10.015625 43.890625 \nL 10.015625 52.203125 \nQ 14.9375 54.109375 19.578125 55.046875 \nQ 24.21875 56 28.609375 56 \nQ 40.484375 56 46.34375 49.84375 \nQ 52.203125 43.703125 52.203125 31.203125 \nz\n\" id=\"DejaVuSans-97\"/>\n     <path d=\"M 18.3125 70.21875 \nL 18.3125 54.6875 \nL 36.8125 54.6875 \nL 36.8125 47.703125 \nL 18.3125 47.703125 \nL 18.3125 18.015625 \nQ 18.3125 11.328125 20.140625 9.421875 \nQ 21.96875 7.515625 27.59375 7.515625 \nL 36.8125 7.515625 \nL 36.8125 0 \nL 27.59375 0 \nQ 17.1875 0 13.234375 3.875 \nQ 9.28125 7.765625 9.28125 18.015625 \nL 9.28125 47.703125 \nL 2.6875 47.703125 \nL 2.6875 54.6875 \nL 9.28125 54.6875 \nL 9.28125 70.21875 \nz\n\" id=\"DejaVuSans-116\"/>\n     <path d=\"M 44.28125 53.078125 \nL 44.28125 44.578125 \nQ 40.484375 46.53125 36.375 47.5 \nQ 32.28125 48.484375 27.875 48.484375 \nQ 21.1875 48.484375 17.84375 46.4375 \nQ 14.5 44.390625 14.5 40.28125 \nQ 14.5 37.15625 16.890625 35.375 \nQ 19.28125 33.59375 26.515625 31.984375 \nL 29.59375 31.296875 \nQ 39.15625 29.25 43.1875 25.515625 \nQ 47.21875 21.78125 47.21875 15.09375 \nQ 47.21875 7.46875 41.1875 3.015625 \nQ 35.15625 -1.421875 24.609375 -1.421875 \nQ 20.21875 -1.421875 15.453125 -0.5625 \nQ 10.6875 0.296875 5.421875 2 \nL 5.421875 11.28125 \nQ 10.40625 8.6875 15.234375 7.390625 \nQ 20.0625 6.109375 24.8125 6.109375 \nQ 31.15625 6.109375 34.5625 8.28125 \nQ 37.984375 10.453125 37.984375 14.40625 \nQ 37.984375 18.0625 35.515625 20.015625 \nQ 33.0625 21.96875 24.703125 23.78125 \nL 21.578125 24.515625 \nQ 13.234375 26.265625 9.515625 29.90625 \nQ 5.8125 33.546875 5.8125 39.890625 \nQ 5.8125 47.609375 11.28125 51.796875 \nQ 16.75 56 26.8125 56 \nQ 31.78125 56 36.171875 55.265625 \nQ 40.578125 54.546875 44.28125 53.078125 \nz\n\" id=\"DejaVuSans-115\"/>\n     <path d=\"M 56.203125 29.59375 \nL 56.203125 25.203125 \nL 14.890625 25.203125 \nQ 15.484375 15.921875 20.484375 11.0625 \nQ 25.484375 6.203125 34.421875 6.203125 \nQ 39.59375 6.203125 44.453125 7.46875 \nQ 49.3125 8.734375 54.109375 11.28125 \nL 54.109375 2.78125 \nQ 49.265625 0.734375 44.1875 -0.34375 \nQ 39.109375 -1.421875 33.890625 -1.421875 \nQ 20.796875 -1.421875 13.15625 6.1875 \nQ 5.515625 13.8125 5.515625 26.8125 \nQ 5.515625 40.234375 12.765625 48.109375 \nQ 20.015625 56 32.328125 56 \nQ 43.359375 56 49.78125 48.890625 \nQ 56.203125 41.796875 56.203125 29.59375 \nz\nM 47.21875 32.234375 \nQ 47.125 39.59375 43.09375 43.984375 \nQ 39.0625 48.390625 32.421875 48.390625 \nQ 24.90625 48.390625 20.390625 44.140625 \nQ 15.875 39.890625 15.1875 32.171875 \nz\n\" id=\"DejaVuSans-101\"/>\n     <path id=\"DejaVuSans-32\"/>\n     <path d=\"M 52 44.1875 \nQ 55.375 50.25 60.0625 53.125 \nQ 64.75 56 71.09375 56 \nQ 79.640625 56 84.28125 50.015625 \nQ 88.921875 44.046875 88.921875 33.015625 \nL 88.921875 0 \nL 79.890625 0 \nL 79.890625 32.71875 \nQ 79.890625 40.578125 77.09375 44.375 \nQ 74.3125 48.1875 68.609375 48.1875 \nQ 61.625 48.1875 57.5625 43.546875 \nQ 53.515625 38.921875 53.515625 30.90625 \nL 53.515625 0 \nL 44.484375 0 \nL 44.484375 32.71875 \nQ 44.484375 40.625 41.703125 44.40625 \nQ 38.921875 48.1875 33.109375 48.1875 \nQ 26.21875 48.1875 22.15625 43.53125 \nQ 18.109375 38.875 18.109375 30.90625 \nL 18.109375 0 \nL 9.078125 0 \nL 9.078125 54.6875 \nL 18.109375 54.6875 \nL 18.109375 46.1875 \nQ 21.1875 51.21875 25.484375 53.609375 \nQ 29.78125 56 35.6875 56 \nQ 41.65625 56 45.828125 52.96875 \nQ 50 49.953125 52 44.1875 \nz\n\" id=\"DejaVuSans-109\"/>\n     <path d=\"M 18.109375 8.203125 \nL 18.109375 -20.796875 \nL 9.078125 -20.796875 \nL 9.078125 54.6875 \nL 18.109375 54.6875 \nL 18.109375 46.390625 \nQ 20.953125 51.265625 25.265625 53.625 \nQ 29.59375 56 35.59375 56 \nQ 45.5625 56 51.78125 48.09375 \nQ 58.015625 40.1875 58.015625 27.296875 \nQ 58.015625 14.40625 51.78125 6.484375 \nQ 45.5625 -1.421875 35.59375 -1.421875 \nQ 29.59375 -1.421875 25.265625 0.953125 \nQ 20.953125 3.328125 18.109375 8.203125 \nz\nM 48.6875 27.296875 \nQ 48.6875 37.203125 44.609375 42.84375 \nQ 40.53125 48.484375 33.40625 48.484375 \nQ 26.265625 48.484375 22.1875 42.84375 \nQ 18.109375 37.203125 18.109375 27.296875 \nQ 18.109375 17.390625 22.1875 11.75 \nQ 26.265625 6.109375 33.40625 6.109375 \nQ 40.53125 6.109375 44.609375 11.75 \nQ 48.6875 17.390625 48.6875 27.296875 \nz\n\" id=\"DejaVuSans-112\"/>\n     <path d=\"M 9.421875 75.984375 \nL 18.40625 75.984375 \nL 18.40625 0 \nL 9.421875 0 \nz\n\" id=\"DejaVuSans-108\"/>\n    </defs>\n    <g style=\"fill:#262626;\" transform=\"translate(124.400781 16.318125)scale(0.12 -0.12)\">\n     <use xlink:href=\"#DejaVuSans-68\"/>\n     <use x=\"77.001953\" xlink:href=\"#DejaVuSans-97\"/>\n     <use x=\"138.28125\" xlink:href=\"#DejaVuSans-116\"/>\n     <use x=\"177.490234\" xlink:href=\"#DejaVuSans-97\"/>\n     <use x=\"238.769531\" xlink:href=\"#DejaVuSans-115\"/>\n     <use x=\"290.869141\" xlink:href=\"#DejaVuSans-101\"/>\n     <use x=\"352.392578\" xlink:href=\"#DejaVuSans-116\"/>\n     <use x=\"391.601562\" xlink:href=\"#DejaVuSans-32\"/>\n     <use x=\"423.388672\" xlink:href=\"#DejaVuSans-115\"/>\n     <use x=\"475.488281\" xlink:href=\"#DejaVuSans-97\"/>\n     <use x=\"536.767578\" xlink:href=\"#DejaVuSans-109\"/>\n     <use x=\"634.179688\" xlink:href=\"#DejaVuSans-112\"/>\n     <use x=\"697.65625\" xlink:href=\"#DejaVuSans-108\"/>\n     <use x=\"725.439453\" xlink:href=\"#DejaVuSans-101\"/>\n     <use x=\"786.962891\" xlink:href=\"#DejaVuSans-115\"/>\n    </g>\n   </g>\n   <g id=\"legend_1\">\n    <g id=\"patch_7\">\n     <path d=\"M 201.130312 148.834063 \nL 275.763594 148.834063 \nQ 277.963594 148.834063 277.963594 146.634063 \nL 277.963594 115.442187 \nQ 277.963594 113.242188 275.763594 113.242188 \nL 201.130312 113.242188 \nQ 198.930312 113.242188 198.930312 115.442187 \nL 198.930312 146.634063 \nQ 198.930312 148.834063 201.130312 148.834063 \nz\n\" style=\"fill:#eaeaf2;opacity:0.8;stroke:#cccccc;stroke-linejoin:miter;\"/>\n    </g>\n    <g id=\"PathCollection_3\">\n     <g>\n      <use style=\"fill:#4c72b0;stroke:#333333;\" x=\"214.330312\" xlink:href=\"#m1fb70a7444\" y=\"123.112969\"/>\n     </g>\n    </g>\n    <g id=\"text_18\">\n     <!-- Class 0 -->\n     <defs>\n      <path d=\"M 64.40625 67.28125 \nL 64.40625 56.890625 \nQ 59.421875 61.53125 53.78125 63.8125 \nQ 48.140625 66.109375 41.796875 66.109375 \nQ 29.296875 66.109375 22.65625 58.46875 \nQ 16.015625 50.828125 16.015625 36.375 \nQ 16.015625 21.96875 22.65625 14.328125 \nQ 29.296875 6.6875 41.796875 6.6875 \nQ 48.140625 6.6875 53.78125 8.984375 \nQ 59.421875 11.28125 64.40625 15.921875 \nL 64.40625 5.609375 \nQ 59.234375 2.09375 53.4375 0.328125 \nQ 47.65625 -1.421875 41.21875 -1.421875 \nQ 24.65625 -1.421875 15.125 8.703125 \nQ 5.609375 18.84375 5.609375 36.375 \nQ 5.609375 53.953125 15.125 64.078125 \nQ 24.65625 74.21875 41.21875 74.21875 \nQ 47.75 74.21875 53.53125 72.484375 \nQ 59.328125 70.75 64.40625 67.28125 \nz\n\" id=\"DejaVuSans-67\"/>\n     </defs>\n     <g style=\"fill:#262626;\" transform=\"translate(234.130312 126.000469)scale(0.11 -0.11)\">\n      <use xlink:href=\"#DejaVuSans-67\"/>\n      <use x=\"69.824219\" xlink:href=\"#DejaVuSans-108\"/>\n      <use x=\"97.607422\" xlink:href=\"#DejaVuSans-97\"/>\n      <use x=\"158.886719\" xlink:href=\"#DejaVuSans-115\"/>\n      <use x=\"210.986328\" xlink:href=\"#DejaVuSans-115\"/>\n      <use x=\"263.085938\" xlink:href=\"#DejaVuSans-32\"/>\n      <use x=\"294.873047\" xlink:href=\"#DejaVuSans-48\"/>\n     </g>\n    </g>\n    <g id=\"PathCollection_4\">\n     <g>\n      <use style=\"fill:#dd8452;stroke:#333333;\" x=\"214.330312\" xlink:href=\"#mf08a07eb3a\" y=\"139.258906\"/>\n     </g>\n    </g>\n    <g id=\"text_19\">\n     <!-- Class 1 -->\n     <g style=\"fill:#262626;\" transform=\"translate(234.130312 142.146406)scale(0.11 -0.11)\">\n      <use xlink:href=\"#DejaVuSans-67\"/>\n      <use x=\"69.824219\" xlink:href=\"#DejaVuSans-108\"/>\n      <use x=\"97.607422\" xlink:href=\"#DejaVuSans-97\"/>\n      <use x=\"158.886719\" xlink:href=\"#DejaVuSans-115\"/>\n      <use x=\"210.986328\" xlink:href=\"#DejaVuSans-115\"/>\n      <use x=\"263.085938\" xlink:href=\"#DejaVuSans-32\"/>\n      <use x=\"294.873047\" xlink:href=\"#DejaVuSans-49\"/>\n     </g>\n    </g>\n   </g>\n  </g>\n </g>\n <defs>\n  <clipPath id=\"pd9fba9a4e3\">\n   <rect height=\"217.44\" width=\"217.44\" x=\"66.023594\" y=\"22.318125\"/>\n  </clipPath>\n </defs>\n</svg>\n"
          },
          "metadata": {
            "needs_background": "light"
          }
        }
      ],
      "source": [
        "@torch.no_grad() # Decorator, same effect as \"with torch.no_grad(): ...\" over the whole function.\n",
        "def visualize_classification(model, data, label):\n",
        "    if isinstance(data, torch.Tensor):\n",
        "        data = data.cpu().numpy()\n",
        "    if isinstance(label, torch.Tensor):\n",
        "        label = label.cpu().numpy()\n",
        "    data_0 = data[label == 0]\n",
        "    data_1 = data[label == 1]\n",
        "    \n",
        "    fig = plt.figure(figsize=(4,4), dpi=500)\n",
        "    plt.scatter(data_0[:,0], data_0[:,1], edgecolor=\"#333\", label=\"Class 0\")\n",
        "    plt.scatter(data_1[:,0], data_1[:,1], edgecolor=\"#333\", label=\"Class 1\")\n",
        "    plt.title(\"Dataset samples\")\n",
        "    plt.ylabel(r\"$x_2$\")\n",
        "    plt.xlabel(r\"$x_1$\")\n",
        "    plt.legend()\n",
        "    \n",
        "    # Let's make use of a lot of operations we have learned above\n",
        "    model.to(device)\n",
        "    c0 = torch.Tensor(to_rgba(\"C0\")).to(device)\n",
        "    c1 = torch.Tensor(to_rgba(\"C1\")).to(device)\n",
        "    x1 = torch.arange(-0.5, 1.5, step=0.01, device=device)\n",
        "    x2 = torch.arange(-0.5, 1.5, step=0.01, device=device)\n",
        "    xx1, xx2 = torch.meshgrid(x1, x2)  # Meshgrid function as in numpy\n",
        "    model_inputs = torch.stack([xx1, xx2], dim=-1)\n",
        "    preds = model(model_inputs)\n",
        "    preds = torch.sigmoid(preds)\n",
        "    output_image = (1 - preds) * c0[None,None] + preds * c1[None,None]  # Specifying \"None\" in a dimension creates a new one\n",
        "    output_image = output_image.cpu().numpy()  # Convert to numpy array. This only works for tensors on CPU, hence first push to CPU\n",
        "    plt.imshow(output_image, origin='lower', extent=(-0.5, 1.5, -0.5, 1.5))\n",
        "    plt.grid(False)\n",
        "    return fig\n",
        "\n",
        "_ = visualize_classification(model, dataset.data, dataset.label)\n",
        "plt.show()"
      ]
    },
    {
      "cell_type": "code",
      "source": [
        ""
      ],
      "metadata": {
        "id": "tboQNmTbFvkT"
      },
      "execution_count": null,
      "outputs": []
    }
  ]
}